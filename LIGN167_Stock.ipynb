{
  "cells": [
    {
      "cell_type": "markdown",
      "metadata": {
        "colab_type": "text",
        "id": "view-in-github"
      },
      "source": [
        "<a href=\"https://colab.research.google.com/github/Yoomin99/LIGN167_Stock/blob/main/LIGN167_Stock.ipynb\" target=\"_parent\"><img src=\"https://colab.research.google.com/assets/colab-badge.svg\" alt=\"Open In Colab\"/></a>"
      ]
    },
    {
      "cell_type": "markdown",
      "metadata": {
        "id": "60K5sL90NfI9"
      },
      "source": [
        "LIGN 167 Stock prediction Final projects\n",
        " \n",
        "- Yoomin Oh\n",
        "- Sudit"
      ]
    },
    {
      "cell_type": "markdown",
      "metadata": {
        "id": "UvXYcp61NfI-"
      },
      "source": [
        "Data sources\n",
        "- https://www.kaggle.com/datasets/kannan1314/amazon-stock-price-all-time\n",
        "- https://www.kaggle.com/datasets/varpit94/google-stock-data\n",
        "- https://www.kaggle.com/datasets/akpmpr/updated-netflix-stock-price-all-time\n",
        "\n",
        "Code sources  \n",
        "- https://medium.com/swlh/stock-price-prediction-with-pytorch-37f52ae84632"
      ]
    },
    {
      "cell_type": "code",
      "execution_count": 154,
      "metadata": {
        "id": "ReRnBiC6NfI-"
      },
      "outputs": [],
      "source": [
        "import pandas as pd\n",
        "from sklearn.preprocessing import MinMaxScaler\n",
        "import numpy as np\n",
        "import matplotlib.pyplot as plt\n",
        "import torch\n",
        "import torch.nn as nn\n",
        "import time"
      ]
    },
    {
      "cell_type": "markdown",
      "metadata": {
        "id": "g93P9-gNNfI_"
      },
      "source": [
        "Data Frame"
      ]
    },
    {
      "cell_type": "code",
      "execution_count": 186,
      "metadata": {
        "colab": {
          "base_uri": "https://localhost:8080/",
          "height": 423
        },
        "id": "MnBELw03NfI_",
        "outputId": "48a7f179-b814-4cf1-a72b-7c7757d80ad6"
      },
      "outputs": [
        {
          "data": {
            "text/html": [
              "<div>\n",
              "<style scoped>\n",
              "    .dataframe tbody tr th:only-of-type {\n",
              "        vertical-align: middle;\n",
              "    }\n",
              "\n",
              "    .dataframe tbody tr th {\n",
              "        vertical-align: top;\n",
              "    }\n",
              "\n",
              "    .dataframe thead th {\n",
              "        text-align: right;\n",
              "    }\n",
              "</style>\n",
              "<table border=\"1\" class=\"dataframe\">\n",
              "  <thead>\n",
              "    <tr style=\"text-align: right;\">\n",
              "      <th></th>\n",
              "      <th>Date</th>\n",
              "      <th>Open</th>\n",
              "      <th>High</th>\n",
              "      <th>Low</th>\n",
              "      <th>Close</th>\n",
              "      <th>Adj Close</th>\n",
              "      <th>Volume</th>\n",
              "    </tr>\n",
              "  </thead>\n",
              "  <tbody>\n",
              "    <tr>\n",
              "      <th>0</th>\n",
              "      <td>2010-01-04</td>\n",
              "      <td>136.250000</td>\n",
              "      <td>136.610001</td>\n",
              "      <td>133.139999</td>\n",
              "      <td>133.899994</td>\n",
              "      <td>133.899994</td>\n",
              "      <td>7599900</td>\n",
              "    </tr>\n",
              "    <tr>\n",
              "      <th>1</th>\n",
              "      <td>2010-01-05</td>\n",
              "      <td>133.429993</td>\n",
              "      <td>135.479996</td>\n",
              "      <td>131.809998</td>\n",
              "      <td>134.690002</td>\n",
              "      <td>134.690002</td>\n",
              "      <td>8851900</td>\n",
              "    </tr>\n",
              "    <tr>\n",
              "      <th>2</th>\n",
              "      <td>2010-01-06</td>\n",
              "      <td>134.600006</td>\n",
              "      <td>134.729996</td>\n",
              "      <td>131.649994</td>\n",
              "      <td>132.250000</td>\n",
              "      <td>132.250000</td>\n",
              "      <td>7178800</td>\n",
              "    </tr>\n",
              "    <tr>\n",
              "      <th>3</th>\n",
              "      <td>2010-01-07</td>\n",
              "      <td>132.009995</td>\n",
              "      <td>132.320007</td>\n",
              "      <td>128.800003</td>\n",
              "      <td>130.000000</td>\n",
              "      <td>130.000000</td>\n",
              "      <td>11030200</td>\n",
              "    </tr>\n",
              "    <tr>\n",
              "      <th>4</th>\n",
              "      <td>2010-01-08</td>\n",
              "      <td>130.559998</td>\n",
              "      <td>133.679993</td>\n",
              "      <td>129.029999</td>\n",
              "      <td>133.520004</td>\n",
              "      <td>133.520004</td>\n",
              "      <td>9830500</td>\n",
              "    </tr>\n",
              "    <tr>\n",
              "      <th>...</th>\n",
              "      <td>...</td>\n",
              "      <td>...</td>\n",
              "      <td>...</td>\n",
              "      <td>...</td>\n",
              "      <td>...</td>\n",
              "      <td>...</td>\n",
              "      <td>...</td>\n",
              "    </tr>\n",
              "    <tr>\n",
              "      <th>2008</th>\n",
              "      <td>2017-12-22</td>\n",
              "      <td>1172.079956</td>\n",
              "      <td>1174.619995</td>\n",
              "      <td>1167.829956</td>\n",
              "      <td>1168.359985</td>\n",
              "      <td>1168.359985</td>\n",
              "      <td>1585100</td>\n",
              "    </tr>\n",
              "    <tr>\n",
              "      <th>2009</th>\n",
              "      <td>2017-12-26</td>\n",
              "      <td>1168.359985</td>\n",
              "      <td>1178.319946</td>\n",
              "      <td>1160.550049</td>\n",
              "      <td>1176.760010</td>\n",
              "      <td>1176.760010</td>\n",
              "      <td>2005200</td>\n",
              "    </tr>\n",
              "    <tr>\n",
              "      <th>2010</th>\n",
              "      <td>2017-12-27</td>\n",
              "      <td>1179.910034</td>\n",
              "      <td>1187.290039</td>\n",
              "      <td>1175.609985</td>\n",
              "      <td>1182.260010</td>\n",
              "      <td>1182.260010</td>\n",
              "      <td>1867200</td>\n",
              "    </tr>\n",
              "    <tr>\n",
              "      <th>2011</th>\n",
              "      <td>2017-12-28</td>\n",
              "      <td>1189.000000</td>\n",
              "      <td>1190.099976</td>\n",
              "      <td>1184.380005</td>\n",
              "      <td>1186.099976</td>\n",
              "      <td>1186.099976</td>\n",
              "      <td>1841700</td>\n",
              "    </tr>\n",
              "    <tr>\n",
              "      <th>2012</th>\n",
              "      <td>2017-12-29</td>\n",
              "      <td>1182.349976</td>\n",
              "      <td>1184.000000</td>\n",
              "      <td>1167.500000</td>\n",
              "      <td>1169.469971</td>\n",
              "      <td>1169.469971</td>\n",
              "      <td>2688400</td>\n",
              "    </tr>\n",
              "  </tbody>\n",
              "</table>\n",
              "<p>2013 rows × 7 columns</p>\n",
              "</div>"
            ],
            "text/plain": [
              "           Date         Open         High          Low        Close  \\\n",
              "0    2010-01-04   136.250000   136.610001   133.139999   133.899994   \n",
              "1    2010-01-05   133.429993   135.479996   131.809998   134.690002   \n",
              "2    2010-01-06   134.600006   134.729996   131.649994   132.250000   \n",
              "3    2010-01-07   132.009995   132.320007   128.800003   130.000000   \n",
              "4    2010-01-08   130.559998   133.679993   129.029999   133.520004   \n",
              "...         ...          ...          ...          ...          ...   \n",
              "2008 2017-12-22  1172.079956  1174.619995  1167.829956  1168.359985   \n",
              "2009 2017-12-26  1168.359985  1178.319946  1160.550049  1176.760010   \n",
              "2010 2017-12-27  1179.910034  1187.290039  1175.609985  1182.260010   \n",
              "2011 2017-12-28  1189.000000  1190.099976  1184.380005  1186.099976   \n",
              "2012 2017-12-29  1182.349976  1184.000000  1167.500000  1169.469971   \n",
              "\n",
              "        Adj Close    Volume  \n",
              "0      133.899994   7599900  \n",
              "1      134.690002   8851900  \n",
              "2      132.250000   7178800  \n",
              "3      130.000000  11030200  \n",
              "4      133.520004   9830500  \n",
              "...           ...       ...  \n",
              "2008  1168.359985   1585100  \n",
              "2009  1176.760010   2005200  \n",
              "2010  1182.260010   1867200  \n",
              "2011  1186.099976   1841700  \n",
              "2012  1169.469971   2688400  \n",
              "\n",
              "[2013 rows x 7 columns]"
            ]
          },
          "execution_count": 186,
          "metadata": {},
          "output_type": "execute_result"
        }
      ],
      "source": [
        "Amazon = pd.read_csv(\"DataFile/Amazon.csv\")\n",
        "Amazon['Date'] = pd.to_datetime(Amazon['Date'])\n",
        "Amazon_2010_2017 = Amazon[~(Amazon['Date'] > '2017-12-31')]\n",
        "Amazon_2010_2017 = Amazon_2010_2017[~(Amazon_2010_2017['Date'] < '2010-1-1')].reset_index(drop = True)\n",
        "Amazon_2010_2017"
      ]
    },
    {
      "cell_type": "code",
      "execution_count": 184,
      "metadata": {},
      "outputs": [
        {
          "data": {
            "text/html": [
              "<div>\n",
              "<style scoped>\n",
              "    .dataframe tbody tr th:only-of-type {\n",
              "        vertical-align: middle;\n",
              "    }\n",
              "\n",
              "    .dataframe tbody tr th {\n",
              "        vertical-align: top;\n",
              "    }\n",
              "\n",
              "    .dataframe thead th {\n",
              "        text-align: right;\n",
              "    }\n",
              "</style>\n",
              "<table border=\"1\" class=\"dataframe\">\n",
              "  <thead>\n",
              "    <tr style=\"text-align: right;\">\n",
              "      <th></th>\n",
              "      <th>Date</th>\n",
              "      <th>Open</th>\n",
              "      <th>High</th>\n",
              "      <th>Low</th>\n",
              "      <th>Close</th>\n",
              "      <th>Adj Close</th>\n",
              "      <th>Volume</th>\n",
              "    </tr>\n",
              "  </thead>\n",
              "  <tbody>\n",
              "    <tr>\n",
              "      <th>0</th>\n",
              "      <td>2018-01-02</td>\n",
              "      <td>1172.000000</td>\n",
              "      <td>1190.000000</td>\n",
              "      <td>1170.510010</td>\n",
              "      <td>1189.010010</td>\n",
              "      <td>1189.010010</td>\n",
              "      <td>2694500</td>\n",
              "    </tr>\n",
              "    <tr>\n",
              "      <th>1</th>\n",
              "      <td>2018-01-03</td>\n",
              "      <td>1188.300049</td>\n",
              "      <td>1205.489990</td>\n",
              "      <td>1188.300049</td>\n",
              "      <td>1204.199951</td>\n",
              "      <td>1204.199951</td>\n",
              "      <td>3108800</td>\n",
              "    </tr>\n",
              "    <tr>\n",
              "      <th>2</th>\n",
              "      <td>2018-01-04</td>\n",
              "      <td>1205.000000</td>\n",
              "      <td>1215.869995</td>\n",
              "      <td>1204.660034</td>\n",
              "      <td>1209.589966</td>\n",
              "      <td>1209.589966</td>\n",
              "      <td>3022100</td>\n",
              "    </tr>\n",
              "    <tr>\n",
              "      <th>3</th>\n",
              "      <td>2018-01-05</td>\n",
              "      <td>1217.510010</td>\n",
              "      <td>1229.140015</td>\n",
              "      <td>1210.000000</td>\n",
              "      <td>1229.140015</td>\n",
              "      <td>1229.140015</td>\n",
              "      <td>3544700</td>\n",
              "    </tr>\n",
              "    <tr>\n",
              "      <th>4</th>\n",
              "      <td>2018-01-08</td>\n",
              "      <td>1236.000000</td>\n",
              "      <td>1253.079956</td>\n",
              "      <td>1232.030029</td>\n",
              "      <td>1246.869995</td>\n",
              "      <td>1246.869995</td>\n",
              "      <td>4279500</td>\n",
              "    </tr>\n",
              "    <tr>\n",
              "      <th>...</th>\n",
              "      <td>...</td>\n",
              "      <td>...</td>\n",
              "      <td>...</td>\n",
              "      <td>...</td>\n",
              "      <td>...</td>\n",
              "      <td>...</td>\n",
              "      <td>...</td>\n",
              "    </tr>\n",
              "    <tr>\n",
              "      <th>958</th>\n",
              "      <td>2021-10-21</td>\n",
              "      <td>3414.250000</td>\n",
              "      <td>3440.280029</td>\n",
              "      <td>3403.000000</td>\n",
              "      <td>3435.010010</td>\n",
              "      <td>3435.010010</td>\n",
              "      <td>1881400</td>\n",
              "    </tr>\n",
              "    <tr>\n",
              "      <th>959</th>\n",
              "      <td>2021-10-22</td>\n",
              "      <td>3421.000000</td>\n",
              "      <td>3429.840088</td>\n",
              "      <td>3331.300049</td>\n",
              "      <td>3335.550049</td>\n",
              "      <td>3335.550049</td>\n",
              "      <td>3133800</td>\n",
              "    </tr>\n",
              "    <tr>\n",
              "      <th>960</th>\n",
              "      <td>2021-10-25</td>\n",
              "      <td>3335.000000</td>\n",
              "      <td>3347.800049</td>\n",
              "      <td>3297.699951</td>\n",
              "      <td>3320.370117</td>\n",
              "      <td>3320.370117</td>\n",
              "      <td>2226000</td>\n",
              "    </tr>\n",
              "    <tr>\n",
              "      <th>961</th>\n",
              "      <td>2021-10-26</td>\n",
              "      <td>3349.510010</td>\n",
              "      <td>3416.120117</td>\n",
              "      <td>3343.979980</td>\n",
              "      <td>3376.070068</td>\n",
              "      <td>3376.070068</td>\n",
              "      <td>2693700</td>\n",
              "    </tr>\n",
              "    <tr>\n",
              "      <th>962</th>\n",
              "      <td>2021-10-27</td>\n",
              "      <td>3388.000000</td>\n",
              "      <td>3412.000000</td>\n",
              "      <td>3371.453369</td>\n",
              "      <td>3396.189941</td>\n",
              "      <td>3396.189941</td>\n",
              "      <td>1080291</td>\n",
              "    </tr>\n",
              "  </tbody>\n",
              "</table>\n",
              "<p>963 rows × 7 columns</p>\n",
              "</div>"
            ],
            "text/plain": [
              "          Date         Open         High          Low        Close  \\\n",
              "0   2018-01-02  1172.000000  1190.000000  1170.510010  1189.010010   \n",
              "1   2018-01-03  1188.300049  1205.489990  1188.300049  1204.199951   \n",
              "2   2018-01-04  1205.000000  1215.869995  1204.660034  1209.589966   \n",
              "3   2018-01-05  1217.510010  1229.140015  1210.000000  1229.140015   \n",
              "4   2018-01-08  1236.000000  1253.079956  1232.030029  1246.869995   \n",
              "..         ...          ...          ...          ...          ...   \n",
              "958 2021-10-21  3414.250000  3440.280029  3403.000000  3435.010010   \n",
              "959 2021-10-22  3421.000000  3429.840088  3331.300049  3335.550049   \n",
              "960 2021-10-25  3335.000000  3347.800049  3297.699951  3320.370117   \n",
              "961 2021-10-26  3349.510010  3416.120117  3343.979980  3376.070068   \n",
              "962 2021-10-27  3388.000000  3412.000000  3371.453369  3396.189941   \n",
              "\n",
              "       Adj Close   Volume  \n",
              "0    1189.010010  2694500  \n",
              "1    1204.199951  3108800  \n",
              "2    1209.589966  3022100  \n",
              "3    1229.140015  3544700  \n",
              "4    1246.869995  4279500  \n",
              "..           ...      ...  \n",
              "958  3435.010010  1881400  \n",
              "959  3335.550049  3133800  \n",
              "960  3320.370117  2226000  \n",
              "961  3376.070068  2693700  \n",
              "962  3396.189941  1080291  \n",
              "\n",
              "[963 rows x 7 columns]"
            ]
          },
          "execution_count": 184,
          "metadata": {},
          "output_type": "execute_result"
        }
      ],
      "source": [
        "Amazon_2017_2021 = Amazon[~(Amazon['Date'] < '2017-12-31')].reset_index(drop = True)\n",
        "Amazon_2017_2021"
      ]
    },
    {
      "cell_type": "markdown",
      "metadata": {},
      "source": [
        "Amazon_2010_2017 would be used to train our model. And then Amazon_2017_2020 would be used to test our model. "
      ]
    },
    {
      "cell_type": "code",
      "execution_count": 181,
      "metadata": {},
      "outputs": [
        {
          "data": {
            "text/html": [
              "<div>\n",
              "<style scoped>\n",
              "    .dataframe tbody tr th:only-of-type {\n",
              "        vertical-align: middle;\n",
              "    }\n",
              "\n",
              "    .dataframe tbody tr th {\n",
              "        vertical-align: top;\n",
              "    }\n",
              "\n",
              "    .dataframe thead th {\n",
              "        text-align: right;\n",
              "    }\n",
              "</style>\n",
              "<table border=\"1\" class=\"dataframe\">\n",
              "  <thead>\n",
              "    <tr style=\"text-align: right;\">\n",
              "      <th></th>\n",
              "      <th>Date</th>\n",
              "      <th>Open</th>\n",
              "      <th>High</th>\n",
              "      <th>Low</th>\n",
              "      <th>Close</th>\n",
              "      <th>Adj Close</th>\n",
              "      <th>Volume</th>\n",
              "    </tr>\n",
              "  </thead>\n",
              "  <tbody>\n",
              "    <tr>\n",
              "      <th>0</th>\n",
              "      <td>2010-01-04</td>\n",
              "      <td>136.250000</td>\n",
              "      <td>136.610001</td>\n",
              "      <td>133.139999</td>\n",
              "      <td>133.899994</td>\n",
              "      <td>133.899994</td>\n",
              "      <td>7599900</td>\n",
              "    </tr>\n",
              "    <tr>\n",
              "      <th>1</th>\n",
              "      <td>2010-01-05</td>\n",
              "      <td>133.429993</td>\n",
              "      <td>135.479996</td>\n",
              "      <td>131.809998</td>\n",
              "      <td>134.690002</td>\n",
              "      <td>134.690002</td>\n",
              "      <td>8851900</td>\n",
              "    </tr>\n",
              "    <tr>\n",
              "      <th>2</th>\n",
              "      <td>2010-01-06</td>\n",
              "      <td>134.600006</td>\n",
              "      <td>134.729996</td>\n",
              "      <td>131.649994</td>\n",
              "      <td>132.250000</td>\n",
              "      <td>132.250000</td>\n",
              "      <td>7178800</td>\n",
              "    </tr>\n",
              "    <tr>\n",
              "      <th>3</th>\n",
              "      <td>2010-01-07</td>\n",
              "      <td>132.009995</td>\n",
              "      <td>132.320007</td>\n",
              "      <td>128.800003</td>\n",
              "      <td>130.000000</td>\n",
              "      <td>130.000000</td>\n",
              "      <td>11030200</td>\n",
              "    </tr>\n",
              "    <tr>\n",
              "      <th>4</th>\n",
              "      <td>2010-01-08</td>\n",
              "      <td>130.559998</td>\n",
              "      <td>133.679993</td>\n",
              "      <td>129.029999</td>\n",
              "      <td>133.520004</td>\n",
              "      <td>133.520004</td>\n",
              "      <td>9830500</td>\n",
              "    </tr>\n",
              "    <tr>\n",
              "      <th>...</th>\n",
              "      <td>...</td>\n",
              "      <td>...</td>\n",
              "      <td>...</td>\n",
              "      <td>...</td>\n",
              "      <td>...</td>\n",
              "      <td>...</td>\n",
              "      <td>...</td>\n",
              "    </tr>\n",
              "    <tr>\n",
              "      <th>2971</th>\n",
              "      <td>2021-10-21</td>\n",
              "      <td>3414.250000</td>\n",
              "      <td>3440.280029</td>\n",
              "      <td>3403.000000</td>\n",
              "      <td>3435.010010</td>\n",
              "      <td>3435.010010</td>\n",
              "      <td>1881400</td>\n",
              "    </tr>\n",
              "    <tr>\n",
              "      <th>2972</th>\n",
              "      <td>2021-10-22</td>\n",
              "      <td>3421.000000</td>\n",
              "      <td>3429.840088</td>\n",
              "      <td>3331.300049</td>\n",
              "      <td>3335.550049</td>\n",
              "      <td>3335.550049</td>\n",
              "      <td>3133800</td>\n",
              "    </tr>\n",
              "    <tr>\n",
              "      <th>2973</th>\n",
              "      <td>2021-10-25</td>\n",
              "      <td>3335.000000</td>\n",
              "      <td>3347.800049</td>\n",
              "      <td>3297.699951</td>\n",
              "      <td>3320.370117</td>\n",
              "      <td>3320.370117</td>\n",
              "      <td>2226000</td>\n",
              "    </tr>\n",
              "    <tr>\n",
              "      <th>2974</th>\n",
              "      <td>2021-10-26</td>\n",
              "      <td>3349.510010</td>\n",
              "      <td>3416.120117</td>\n",
              "      <td>3343.979980</td>\n",
              "      <td>3376.070068</td>\n",
              "      <td>3376.070068</td>\n",
              "      <td>2693700</td>\n",
              "    </tr>\n",
              "    <tr>\n",
              "      <th>2975</th>\n",
              "      <td>2021-10-27</td>\n",
              "      <td>3388.000000</td>\n",
              "      <td>3412.000000</td>\n",
              "      <td>3371.453369</td>\n",
              "      <td>3396.189941</td>\n",
              "      <td>3396.189941</td>\n",
              "      <td>1080291</td>\n",
              "    </tr>\n",
              "  </tbody>\n",
              "</table>\n",
              "<p>2976 rows × 7 columns</p>\n",
              "</div>"
            ],
            "text/plain": [
              "           Date         Open         High          Low        Close  \\\n",
              "0    2010-01-04   136.250000   136.610001   133.139999   133.899994   \n",
              "1    2010-01-05   133.429993   135.479996   131.809998   134.690002   \n",
              "2    2010-01-06   134.600006   134.729996   131.649994   132.250000   \n",
              "3    2010-01-07   132.009995   132.320007   128.800003   130.000000   \n",
              "4    2010-01-08   130.559998   133.679993   129.029999   133.520004   \n",
              "...         ...          ...          ...          ...          ...   \n",
              "2971 2021-10-21  3414.250000  3440.280029  3403.000000  3435.010010   \n",
              "2972 2021-10-22  3421.000000  3429.840088  3331.300049  3335.550049   \n",
              "2973 2021-10-25  3335.000000  3347.800049  3297.699951  3320.370117   \n",
              "2974 2021-10-26  3349.510010  3416.120117  3343.979980  3376.070068   \n",
              "2975 2021-10-27  3388.000000  3412.000000  3371.453369  3396.189941   \n",
              "\n",
              "        Adj Close    Volume  \n",
              "0      133.899994   7599900  \n",
              "1      134.690002   8851900  \n",
              "2      132.250000   7178800  \n",
              "3      130.000000  11030200  \n",
              "4      133.520004   9830500  \n",
              "...           ...       ...  \n",
              "2971  3435.010010   1881400  \n",
              "2972  3335.550049   3133800  \n",
              "2973  3320.370117   2226000  \n",
              "2974  3376.070068   2693700  \n",
              "2975  3396.189941   1080291  \n",
              "\n",
              "[2976 rows x 7 columns]"
            ]
          },
          "execution_count": 181,
          "metadata": {},
          "output_type": "execute_result"
        }
      ],
      "source": [
        "Amazon_2010 = Amazon[~(Amazon['Date'] < '2010-1-1')].reset_index(drop = True)\n",
        "Amazon_2010"
      ]
    },
    {
      "cell_type": "code",
      "execution_count": null,
      "metadata": {},
      "outputs": [],
      "source": []
    },
    {
      "cell_type": "code",
      "execution_count": 157,
      "metadata": {
        "colab": {
          "base_uri": "https://localhost:8080/",
          "height": 423
        },
        "id": "8jpj4IpSNfJA",
        "outputId": "67ce67fe-8309-4520-9f0d-edc4033ef4ee"
      },
      "outputs": [
        {
          "data": {
            "text/html": [
              "<div>\n",
              "<style scoped>\n",
              "    .dataframe tbody tr th:only-of-type {\n",
              "        vertical-align: middle;\n",
              "    }\n",
              "\n",
              "    .dataframe tbody tr th {\n",
              "        vertical-align: top;\n",
              "    }\n",
              "\n",
              "    .dataframe thead th {\n",
              "        text-align: right;\n",
              "    }\n",
              "</style>\n",
              "<table border=\"1\" class=\"dataframe\">\n",
              "  <thead>\n",
              "    <tr style=\"text-align: right;\">\n",
              "      <th></th>\n",
              "      <th>Date</th>\n",
              "      <th>Open</th>\n",
              "      <th>High</th>\n",
              "      <th>Low</th>\n",
              "      <th>Close</th>\n",
              "      <th>Adj Close</th>\n",
              "      <th>Volume</th>\n",
              "    </tr>\n",
              "  </thead>\n",
              "  <tbody>\n",
              "    <tr>\n",
              "      <th>0</th>\n",
              "      <td>2010-01-04</td>\n",
              "      <td>313.788788</td>\n",
              "      <td>315.070068</td>\n",
              "      <td>312.432434</td>\n",
              "      <td>313.688690</td>\n",
              "      <td>313.688690</td>\n",
              "      <td>3908488</td>\n",
              "    </tr>\n",
              "    <tr>\n",
              "      <th>1</th>\n",
              "      <td>2010-01-05</td>\n",
              "      <td>313.903900</td>\n",
              "      <td>314.234222</td>\n",
              "      <td>311.081085</td>\n",
              "      <td>312.307312</td>\n",
              "      <td>312.307312</td>\n",
              "      <td>6003391</td>\n",
              "    </tr>\n",
              "    <tr>\n",
              "      <th>2</th>\n",
              "      <td>2010-01-06</td>\n",
              "      <td>313.243256</td>\n",
              "      <td>313.243256</td>\n",
              "      <td>303.483490</td>\n",
              "      <td>304.434448</td>\n",
              "      <td>304.434448</td>\n",
              "      <td>7949443</td>\n",
              "    </tr>\n",
              "    <tr>\n",
              "      <th>3</th>\n",
              "      <td>2010-01-07</td>\n",
              "      <td>305.005005</td>\n",
              "      <td>305.305298</td>\n",
              "      <td>296.621613</td>\n",
              "      <td>297.347351</td>\n",
              "      <td>297.347351</td>\n",
              "      <td>12815771</td>\n",
              "    </tr>\n",
              "    <tr>\n",
              "      <th>4</th>\n",
              "      <td>2010-01-08</td>\n",
              "      <td>296.296295</td>\n",
              "      <td>301.926941</td>\n",
              "      <td>294.849854</td>\n",
              "      <td>301.311310</td>\n",
              "      <td>301.311310</td>\n",
              "      <td>9439151</td>\n",
              "    </tr>\n",
              "    <tr>\n",
              "      <th>...</th>\n",
              "      <td>...</td>\n",
              "      <td>...</td>\n",
              "      <td>...</td>\n",
              "      <td>...</td>\n",
              "      <td>...</td>\n",
              "      <td>...</td>\n",
              "      <td>...</td>\n",
              "    </tr>\n",
              "    <tr>\n",
              "      <th>2008</th>\n",
              "      <td>2017-12-22</td>\n",
              "      <td>1070.000000</td>\n",
              "      <td>1071.719971</td>\n",
              "      <td>1067.640015</td>\n",
              "      <td>1068.859985</td>\n",
              "      <td>1068.859985</td>\n",
              "      <td>889400</td>\n",
              "    </tr>\n",
              "    <tr>\n",
              "      <th>2009</th>\n",
              "      <td>2017-12-26</td>\n",
              "      <td>1068.640015</td>\n",
              "      <td>1068.859985</td>\n",
              "      <td>1058.640015</td>\n",
              "      <td>1065.849976</td>\n",
              "      <td>1065.849976</td>\n",
              "      <td>918800</td>\n",
              "    </tr>\n",
              "    <tr>\n",
              "      <th>2010</th>\n",
              "      <td>2017-12-27</td>\n",
              "      <td>1066.599976</td>\n",
              "      <td>1068.270020</td>\n",
              "      <td>1058.380005</td>\n",
              "      <td>1060.199951</td>\n",
              "      <td>1060.199951</td>\n",
              "      <td>1116200</td>\n",
              "    </tr>\n",
              "    <tr>\n",
              "      <th>2011</th>\n",
              "      <td>2017-12-28</td>\n",
              "      <td>1062.250000</td>\n",
              "      <td>1064.839966</td>\n",
              "      <td>1053.380005</td>\n",
              "      <td>1055.949951</td>\n",
              "      <td>1055.949951</td>\n",
              "      <td>994200</td>\n",
              "    </tr>\n",
              "    <tr>\n",
              "      <th>2012</th>\n",
              "      <td>2017-12-29</td>\n",
              "      <td>1055.489990</td>\n",
              "      <td>1058.050049</td>\n",
              "      <td>1052.699951</td>\n",
              "      <td>1053.400024</td>\n",
              "      <td>1053.400024</td>\n",
              "      <td>1180300</td>\n",
              "    </tr>\n",
              "  </tbody>\n",
              "</table>\n",
              "<p>2013 rows × 7 columns</p>\n",
              "</div>"
            ],
            "text/plain": [
              "           Date         Open         High          Low        Close  \\\n",
              "0    2010-01-04   313.788788   315.070068   312.432434   313.688690   \n",
              "1    2010-01-05   313.903900   314.234222   311.081085   312.307312   \n",
              "2    2010-01-06   313.243256   313.243256   303.483490   304.434448   \n",
              "3    2010-01-07   305.005005   305.305298   296.621613   297.347351   \n",
              "4    2010-01-08   296.296295   301.926941   294.849854   301.311310   \n",
              "...         ...          ...          ...          ...          ...   \n",
              "2008 2017-12-22  1070.000000  1071.719971  1067.640015  1068.859985   \n",
              "2009 2017-12-26  1068.640015  1068.859985  1058.640015  1065.849976   \n",
              "2010 2017-12-27  1066.599976  1068.270020  1058.380005  1060.199951   \n",
              "2011 2017-12-28  1062.250000  1064.839966  1053.380005  1055.949951   \n",
              "2012 2017-12-29  1055.489990  1058.050049  1052.699951  1053.400024   \n",
              "\n",
              "        Adj Close    Volume  \n",
              "0      313.688690   3908488  \n",
              "1      312.307312   6003391  \n",
              "2      304.434448   7949443  \n",
              "3      297.347351  12815771  \n",
              "4      301.311310   9439151  \n",
              "...           ...       ...  \n",
              "2008  1068.859985    889400  \n",
              "2009  1065.849976    918800  \n",
              "2010  1060.199951   1116200  \n",
              "2011  1055.949951    994200  \n",
              "2012  1053.400024   1180300  \n",
              "\n",
              "[2013 rows x 7 columns]"
            ]
          },
          "execution_count": 157,
          "metadata": {},
          "output_type": "execute_result"
        }
      ],
      "source": [
        "Google = pd.read_csv(\"DataFile/GOOGL.csv\")\n",
        "Google['Date'] = pd.to_datetime(Google['Date'])\n",
        "Google_2010_2017 = Google[~(Google['Date'] > '2017-12-31')]\n",
        "Google_2010_2017 = Google_2010_2017[~(Google_2010_2017['Date'] < '2010-1-1')].reset_index(drop = True)\n",
        "Google_2010_2017"
      ]
    },
    {
      "cell_type": "markdown",
      "metadata": {},
      "source": [
        "Google_2010_2017 would be used to train our model. And then Google_2017_2022 would be used to test our model. "
      ]
    },
    {
      "cell_type": "code",
      "execution_count": 158,
      "metadata": {},
      "outputs": [
        {
          "data": {
            "text/html": [
              "<div>\n",
              "<style scoped>\n",
              "    .dataframe tbody tr th:only-of-type {\n",
              "        vertical-align: middle;\n",
              "    }\n",
              "\n",
              "    .dataframe tbody tr th {\n",
              "        vertical-align: top;\n",
              "    }\n",
              "\n",
              "    .dataframe thead th {\n",
              "        text-align: right;\n",
              "    }\n",
              "</style>\n",
              "<table border=\"1\" class=\"dataframe\">\n",
              "  <thead>\n",
              "    <tr style=\"text-align: right;\">\n",
              "      <th></th>\n",
              "      <th>Date</th>\n",
              "      <th>Open</th>\n",
              "      <th>High</th>\n",
              "      <th>Low</th>\n",
              "      <th>Close</th>\n",
              "      <th>Adj Close</th>\n",
              "      <th>Volume</th>\n",
              "    </tr>\n",
              "  </thead>\n",
              "  <tbody>\n",
              "    <tr>\n",
              "      <th>0</th>\n",
              "      <td>2018-01-02</td>\n",
              "      <td>1053.020020</td>\n",
              "      <td>1075.979980</td>\n",
              "      <td>1053.020020</td>\n",
              "      <td>1073.209961</td>\n",
              "      <td>1073.209961</td>\n",
              "      <td>1588300</td>\n",
              "    </tr>\n",
              "    <tr>\n",
              "      <th>1</th>\n",
              "      <td>2018-01-03</td>\n",
              "      <td>1073.930054</td>\n",
              "      <td>1096.099976</td>\n",
              "      <td>1073.430054</td>\n",
              "      <td>1091.520020</td>\n",
              "      <td>1091.520020</td>\n",
              "      <td>1565900</td>\n",
              "    </tr>\n",
              "    <tr>\n",
              "      <th>2</th>\n",
              "      <td>2018-01-04</td>\n",
              "      <td>1097.089966</td>\n",
              "      <td>1104.079956</td>\n",
              "      <td>1094.260010</td>\n",
              "      <td>1095.760010</td>\n",
              "      <td>1095.760010</td>\n",
              "      <td>1302600</td>\n",
              "    </tr>\n",
              "    <tr>\n",
              "      <th>3</th>\n",
              "      <td>2018-01-05</td>\n",
              "      <td>1103.449951</td>\n",
              "      <td>1113.579956</td>\n",
              "      <td>1101.800049</td>\n",
              "      <td>1110.290039</td>\n",
              "      <td>1110.290039</td>\n",
              "      <td>1512500</td>\n",
              "    </tr>\n",
              "    <tr>\n",
              "      <th>4</th>\n",
              "      <td>2018-01-08</td>\n",
              "      <td>1111.000000</td>\n",
              "      <td>1119.160034</td>\n",
              "      <td>1110.000000</td>\n",
              "      <td>1114.209961</td>\n",
              "      <td>1114.209961</td>\n",
              "      <td>1232200</td>\n",
              "    </tr>\n",
              "    <tr>\n",
              "      <th>...</th>\n",
              "      <td>...</td>\n",
              "      <td>...</td>\n",
              "      <td>...</td>\n",
              "      <td>...</td>\n",
              "      <td>...</td>\n",
              "      <td>...</td>\n",
              "      <td>...</td>\n",
              "    </tr>\n",
              "    <tr>\n",
              "      <th>1060</th>\n",
              "      <td>2022-03-18</td>\n",
              "      <td>2668.489990</td>\n",
              "      <td>2724.879883</td>\n",
              "      <td>2645.169922</td>\n",
              "      <td>2722.510010</td>\n",
              "      <td>2722.510010</td>\n",
              "      <td>2223100</td>\n",
              "    </tr>\n",
              "    <tr>\n",
              "      <th>1061</th>\n",
              "      <td>2022-03-21</td>\n",
              "      <td>2723.270020</td>\n",
              "      <td>2741.000000</td>\n",
              "      <td>2681.850098</td>\n",
              "      <td>2722.030029</td>\n",
              "      <td>2722.030029</td>\n",
              "      <td>1341600</td>\n",
              "    </tr>\n",
              "    <tr>\n",
              "      <th>1062</th>\n",
              "      <td>2022-03-22</td>\n",
              "      <td>2722.030029</td>\n",
              "      <td>2821.000000</td>\n",
              "      <td>2722.030029</td>\n",
              "      <td>2797.360107</td>\n",
              "      <td>2797.360107</td>\n",
              "      <td>1774800</td>\n",
              "    </tr>\n",
              "    <tr>\n",
              "      <th>1063</th>\n",
              "      <td>2022-03-23</td>\n",
              "      <td>2774.050049</td>\n",
              "      <td>2791.770020</td>\n",
              "      <td>2756.699951</td>\n",
              "      <td>2765.510010</td>\n",
              "      <td>2765.510010</td>\n",
              "      <td>1257700</td>\n",
              "    </tr>\n",
              "    <tr>\n",
              "      <th>1064</th>\n",
              "      <td>2022-03-24</td>\n",
              "      <td>2784.000000</td>\n",
              "      <td>2832.379883</td>\n",
              "      <td>2755.010010</td>\n",
              "      <td>2831.439941</td>\n",
              "      <td>2831.439941</td>\n",
              "      <td>1317900</td>\n",
              "    </tr>\n",
              "  </tbody>\n",
              "</table>\n",
              "<p>1065 rows × 7 columns</p>\n",
              "</div>"
            ],
            "text/plain": [
              "           Date         Open         High          Low        Close  \\\n",
              "0    2018-01-02  1053.020020  1075.979980  1053.020020  1073.209961   \n",
              "1    2018-01-03  1073.930054  1096.099976  1073.430054  1091.520020   \n",
              "2    2018-01-04  1097.089966  1104.079956  1094.260010  1095.760010   \n",
              "3    2018-01-05  1103.449951  1113.579956  1101.800049  1110.290039   \n",
              "4    2018-01-08  1111.000000  1119.160034  1110.000000  1114.209961   \n",
              "...         ...          ...          ...          ...          ...   \n",
              "1060 2022-03-18  2668.489990  2724.879883  2645.169922  2722.510010   \n",
              "1061 2022-03-21  2723.270020  2741.000000  2681.850098  2722.030029   \n",
              "1062 2022-03-22  2722.030029  2821.000000  2722.030029  2797.360107   \n",
              "1063 2022-03-23  2774.050049  2791.770020  2756.699951  2765.510010   \n",
              "1064 2022-03-24  2784.000000  2832.379883  2755.010010  2831.439941   \n",
              "\n",
              "        Adj Close   Volume  \n",
              "0     1073.209961  1588300  \n",
              "1     1091.520020  1565900  \n",
              "2     1095.760010  1302600  \n",
              "3     1110.290039  1512500  \n",
              "4     1114.209961  1232200  \n",
              "...           ...      ...  \n",
              "1060  2722.510010  2223100  \n",
              "1061  2722.030029  1341600  \n",
              "1062  2797.360107  1774800  \n",
              "1063  2765.510010  1257700  \n",
              "1064  2831.439941  1317900  \n",
              "\n",
              "[1065 rows x 7 columns]"
            ]
          },
          "execution_count": 158,
          "metadata": {},
          "output_type": "execute_result"
        }
      ],
      "source": [
        "Google_2017_2022 = Google[~(Google['Date'] < '2017-12-31')].reset_index(drop = True)\n",
        "Google_2017_2022"
      ]
    },
    {
      "cell_type": "code",
      "execution_count": 159,
      "metadata": {
        "colab": {
          "base_uri": "https://localhost:8080/",
          "height": 423
        },
        "id": "yKqTuGfyNfJA",
        "outputId": "3455a2c0-2f93-4659-f219-62806b278708"
      },
      "outputs": [
        {
          "data": {
            "text/html": [
              "<div>\n",
              "<style scoped>\n",
              "    .dataframe tbody tr th:only-of-type {\n",
              "        vertical-align: middle;\n",
              "    }\n",
              "\n",
              "    .dataframe tbody tr th {\n",
              "        vertical-align: top;\n",
              "    }\n",
              "\n",
              "    .dataframe thead th {\n",
              "        text-align: right;\n",
              "    }\n",
              "</style>\n",
              "<table border=\"1\" class=\"dataframe\">\n",
              "  <thead>\n",
              "    <tr style=\"text-align: right;\">\n",
              "      <th></th>\n",
              "      <th>Date</th>\n",
              "      <th>High</th>\n",
              "      <th>Low</th>\n",
              "      <th>Open</th>\n",
              "      <th>Close</th>\n",
              "      <th>Volume</th>\n",
              "      <th>Adj Close</th>\n",
              "    </tr>\n",
              "  </thead>\n",
              "  <tbody>\n",
              "    <tr>\n",
              "      <th>0</th>\n",
              "      <td>2010-01-04</td>\n",
              "      <td>7.961429</td>\n",
              "      <td>7.565714</td>\n",
              "      <td>7.931429</td>\n",
              "      <td>7.640000</td>\n",
              "      <td>17239600.0</td>\n",
              "      <td>7.640000</td>\n",
              "    </tr>\n",
              "    <tr>\n",
              "      <th>1</th>\n",
              "      <td>2010-01-05</td>\n",
              "      <td>7.657143</td>\n",
              "      <td>7.258571</td>\n",
              "      <td>7.652857</td>\n",
              "      <td>7.358571</td>\n",
              "      <td>23753100.0</td>\n",
              "      <td>7.358571</td>\n",
              "    </tr>\n",
              "    <tr>\n",
              "      <th>2</th>\n",
              "      <td>2010-01-06</td>\n",
              "      <td>7.672857</td>\n",
              "      <td>7.197143</td>\n",
              "      <td>7.361429</td>\n",
              "      <td>7.617143</td>\n",
              "      <td>23290400.0</td>\n",
              "      <td>7.617143</td>\n",
              "    </tr>\n",
              "    <tr>\n",
              "      <th>3</th>\n",
              "      <td>2010-01-07</td>\n",
              "      <td>7.757143</td>\n",
              "      <td>7.462857</td>\n",
              "      <td>7.731429</td>\n",
              "      <td>7.485714</td>\n",
              "      <td>9955400.0</td>\n",
              "      <td>7.485714</td>\n",
              "    </tr>\n",
              "    <tr>\n",
              "      <th>4</th>\n",
              "      <td>2010-01-08</td>\n",
              "      <td>7.742857</td>\n",
              "      <td>7.465714</td>\n",
              "      <td>7.498571</td>\n",
              "      <td>7.614286</td>\n",
              "      <td>8180900.0</td>\n",
              "      <td>7.614286</td>\n",
              "    </tr>\n",
              "    <tr>\n",
              "      <th>...</th>\n",
              "      <td>...</td>\n",
              "      <td>...</td>\n",
              "      <td>...</td>\n",
              "      <td>...</td>\n",
              "      <td>...</td>\n",
              "      <td>...</td>\n",
              "      <td>...</td>\n",
              "    </tr>\n",
              "    <tr>\n",
              "      <th>2008</th>\n",
              "      <td>2017-12-22</td>\n",
              "      <td>190.949997</td>\n",
              "      <td>186.800003</td>\n",
              "      <td>188.330002</td>\n",
              "      <td>189.940002</td>\n",
              "      <td>3878900.0</td>\n",
              "      <td>189.940002</td>\n",
              "    </tr>\n",
              "    <tr>\n",
              "      <th>2009</th>\n",
              "      <td>2017-12-26</td>\n",
              "      <td>189.940002</td>\n",
              "      <td>186.399994</td>\n",
              "      <td>189.779999</td>\n",
              "      <td>187.759995</td>\n",
              "      <td>3045700.0</td>\n",
              "      <td>187.759995</td>\n",
              "    </tr>\n",
              "    <tr>\n",
              "      <th>2010</th>\n",
              "      <td>2017-12-27</td>\n",
              "      <td>188.100006</td>\n",
              "      <td>185.220001</td>\n",
              "      <td>187.800003</td>\n",
              "      <td>186.240005</td>\n",
              "      <td>4002100.0</td>\n",
              "      <td>186.240005</td>\n",
              "    </tr>\n",
              "    <tr>\n",
              "      <th>2011</th>\n",
              "      <td>2017-12-28</td>\n",
              "      <td>194.490005</td>\n",
              "      <td>186.850006</td>\n",
              "      <td>187.179993</td>\n",
              "      <td>192.710007</td>\n",
              "      <td>10107400.0</td>\n",
              "      <td>192.710007</td>\n",
              "    </tr>\n",
              "    <tr>\n",
              "      <th>2012</th>\n",
              "      <td>2017-12-29</td>\n",
              "      <td>193.949997</td>\n",
              "      <td>191.220001</td>\n",
              "      <td>192.509995</td>\n",
              "      <td>191.960007</td>\n",
              "      <td>5187600.0</td>\n",
              "      <td>191.960007</td>\n",
              "    </tr>\n",
              "  </tbody>\n",
              "</table>\n",
              "<p>2013 rows × 7 columns</p>\n",
              "</div>"
            ],
            "text/plain": [
              "           Date        High         Low        Open       Close      Volume  \\\n",
              "0    2010-01-04    7.961429    7.565714    7.931429    7.640000  17239600.0   \n",
              "1    2010-01-05    7.657143    7.258571    7.652857    7.358571  23753100.0   \n",
              "2    2010-01-06    7.672857    7.197143    7.361429    7.617143  23290400.0   \n",
              "3    2010-01-07    7.757143    7.462857    7.731429    7.485714   9955400.0   \n",
              "4    2010-01-08    7.742857    7.465714    7.498571    7.614286   8180900.0   \n",
              "...         ...         ...         ...         ...         ...         ...   \n",
              "2008 2017-12-22  190.949997  186.800003  188.330002  189.940002   3878900.0   \n",
              "2009 2017-12-26  189.940002  186.399994  189.779999  187.759995   3045700.0   \n",
              "2010 2017-12-27  188.100006  185.220001  187.800003  186.240005   4002100.0   \n",
              "2011 2017-12-28  194.490005  186.850006  187.179993  192.710007  10107400.0   \n",
              "2012 2017-12-29  193.949997  191.220001  192.509995  191.960007   5187600.0   \n",
              "\n",
              "       Adj Close  \n",
              "0       7.640000  \n",
              "1       7.358571  \n",
              "2       7.617143  \n",
              "3       7.485714  \n",
              "4       7.614286  \n",
              "...          ...  \n",
              "2008  189.940002  \n",
              "2009  187.759995  \n",
              "2010  186.240005  \n",
              "2011  192.710007  \n",
              "2012  191.960007  \n",
              "\n",
              "[2013 rows x 7 columns]"
            ]
          },
          "execution_count": 159,
          "metadata": {},
          "output_type": "execute_result"
        }
      ],
      "source": [
        "Netflix = pd.read_csv(\"DataFile/netflix.csv\")\n",
        "Netflix['Date'] = pd.to_datetime(Netflix['Date'])\n",
        "Netflix_2010_2017 = Netflix[~(Netflix['Date'] > '2017-12-31')]\n",
        "Netflix_2010_2017 = Netflix_2010_2017[~(Netflix_2010_2017['Date'] < '2010-1-1')].reset_index(drop = True)\n",
        "Netflix_2010_2017"
      ]
    },
    {
      "cell_type": "markdown",
      "metadata": {},
      "source": [
        "Netflix_2010_2017 would be used to train our model. And then Netflix_2017_2021 would be used to test our model. "
      ]
    },
    {
      "cell_type": "code",
      "execution_count": 160,
      "metadata": {
        "id": "LU0E7B9k1ck5"
      },
      "outputs": [
        {
          "data": {
            "text/html": [
              "<div>\n",
              "<style scoped>\n",
              "    .dataframe tbody tr th:only-of-type {\n",
              "        vertical-align: middle;\n",
              "    }\n",
              "\n",
              "    .dataframe tbody tr th {\n",
              "        vertical-align: top;\n",
              "    }\n",
              "\n",
              "    .dataframe thead th {\n",
              "        text-align: right;\n",
              "    }\n",
              "</style>\n",
              "<table border=\"1\" class=\"dataframe\">\n",
              "  <thead>\n",
              "    <tr style=\"text-align: right;\">\n",
              "      <th></th>\n",
              "      <th>Date</th>\n",
              "      <th>High</th>\n",
              "      <th>Low</th>\n",
              "      <th>Open</th>\n",
              "      <th>Close</th>\n",
              "      <th>Volume</th>\n",
              "      <th>Adj Close</th>\n",
              "    </tr>\n",
              "  </thead>\n",
              "  <tbody>\n",
              "    <tr>\n",
              "      <th>0</th>\n",
              "      <td>2018-01-02</td>\n",
              "      <td>201.649994</td>\n",
              "      <td>195.419998</td>\n",
              "      <td>196.100006</td>\n",
              "      <td>201.070007</td>\n",
              "      <td>10966900.0</td>\n",
              "      <td>201.070007</td>\n",
              "    </tr>\n",
              "    <tr>\n",
              "      <th>1</th>\n",
              "      <td>2018-01-03</td>\n",
              "      <td>206.210007</td>\n",
              "      <td>201.500000</td>\n",
              "      <td>202.050003</td>\n",
              "      <td>205.050003</td>\n",
              "      <td>8591400.0</td>\n",
              "      <td>205.050003</td>\n",
              "    </tr>\n",
              "    <tr>\n",
              "      <th>2</th>\n",
              "      <td>2018-01-04</td>\n",
              "      <td>207.050003</td>\n",
              "      <td>204.000000</td>\n",
              "      <td>206.199997</td>\n",
              "      <td>205.630005</td>\n",
              "      <td>6029600.0</td>\n",
              "      <td>205.630005</td>\n",
              "    </tr>\n",
              "    <tr>\n",
              "      <th>3</th>\n",
              "      <td>2018-01-05</td>\n",
              "      <td>210.020004</td>\n",
              "      <td>205.589996</td>\n",
              "      <td>207.250000</td>\n",
              "      <td>209.990005</td>\n",
              "      <td>7033200.0</td>\n",
              "      <td>209.990005</td>\n",
              "    </tr>\n",
              "    <tr>\n",
              "      <th>4</th>\n",
              "      <td>2018-01-08</td>\n",
              "      <td>212.500000</td>\n",
              "      <td>208.440002</td>\n",
              "      <td>210.020004</td>\n",
              "      <td>212.050003</td>\n",
              "      <td>5580200.0</td>\n",
              "      <td>212.050003</td>\n",
              "    </tr>\n",
              "    <tr>\n",
              "      <th>...</th>\n",
              "      <td>...</td>\n",
              "      <td>...</td>\n",
              "      <td>...</td>\n",
              "      <td>...</td>\n",
              "      <td>...</td>\n",
              "      <td>...</td>\n",
              "      <td>...</td>\n",
              "    </tr>\n",
              "    <tr>\n",
              "      <th>946</th>\n",
              "      <td>2021-10-05</td>\n",
              "      <td>640.390015</td>\n",
              "      <td>606.890015</td>\n",
              "      <td>606.940002</td>\n",
              "      <td>634.809998</td>\n",
              "      <td>9534300.0</td>\n",
              "      <td>634.809998</td>\n",
              "    </tr>\n",
              "    <tr>\n",
              "      <th>947</th>\n",
              "      <td>2021-10-06</td>\n",
              "      <td>639.869995</td>\n",
              "      <td>626.359985</td>\n",
              "      <td>628.179993</td>\n",
              "      <td>639.099976</td>\n",
              "      <td>4580400.0</td>\n",
              "      <td>639.099976</td>\n",
              "    </tr>\n",
              "    <tr>\n",
              "      <th>948</th>\n",
              "      <td>2021-10-07</td>\n",
              "      <td>646.840027</td>\n",
              "      <td>630.450012</td>\n",
              "      <td>642.229980</td>\n",
              "      <td>631.849976</td>\n",
              "      <td>3556900.0</td>\n",
              "      <td>631.849976</td>\n",
              "    </tr>\n",
              "    <tr>\n",
              "      <th>949</th>\n",
              "      <td>2021-10-08</td>\n",
              "      <td>643.799988</td>\n",
              "      <td>630.859985</td>\n",
              "      <td>634.169983</td>\n",
              "      <td>632.659973</td>\n",
              "      <td>3271100.0</td>\n",
              "      <td>632.659973</td>\n",
              "    </tr>\n",
              "    <tr>\n",
              "      <th>950</th>\n",
              "      <td>2021-10-11</td>\n",
              "      <td>639.419983</td>\n",
              "      <td>626.780029</td>\n",
              "      <td>633.200012</td>\n",
              "      <td>627.039978</td>\n",
              "      <td>2861200.0</td>\n",
              "      <td>627.039978</td>\n",
              "    </tr>\n",
              "  </tbody>\n",
              "</table>\n",
              "<p>951 rows × 7 columns</p>\n",
              "</div>"
            ],
            "text/plain": [
              "          Date        High         Low        Open       Close      Volume  \\\n",
              "0   2018-01-02  201.649994  195.419998  196.100006  201.070007  10966900.0   \n",
              "1   2018-01-03  206.210007  201.500000  202.050003  205.050003   8591400.0   \n",
              "2   2018-01-04  207.050003  204.000000  206.199997  205.630005   6029600.0   \n",
              "3   2018-01-05  210.020004  205.589996  207.250000  209.990005   7033200.0   \n",
              "4   2018-01-08  212.500000  208.440002  210.020004  212.050003   5580200.0   \n",
              "..         ...         ...         ...         ...         ...         ...   \n",
              "946 2021-10-05  640.390015  606.890015  606.940002  634.809998   9534300.0   \n",
              "947 2021-10-06  639.869995  626.359985  628.179993  639.099976   4580400.0   \n",
              "948 2021-10-07  646.840027  630.450012  642.229980  631.849976   3556900.0   \n",
              "949 2021-10-08  643.799988  630.859985  634.169983  632.659973   3271100.0   \n",
              "950 2021-10-11  639.419983  626.780029  633.200012  627.039978   2861200.0   \n",
              "\n",
              "      Adj Close  \n",
              "0    201.070007  \n",
              "1    205.050003  \n",
              "2    205.630005  \n",
              "3    209.990005  \n",
              "4    212.050003  \n",
              "..          ...  \n",
              "946  634.809998  \n",
              "947  639.099976  \n",
              "948  631.849976  \n",
              "949  632.659973  \n",
              "950  627.039978  \n",
              "\n",
              "[951 rows x 7 columns]"
            ]
          },
          "execution_count": 160,
          "metadata": {},
          "output_type": "execute_result"
        }
      ],
      "source": [
        "Netflix_2017_2021 = Netflix[~(Netflix['Date'] < '2017-12-31')].reset_index(drop = True)\n",
        "Netflix_2017_2021"
      ]
    },
    {
      "cell_type": "code",
      "execution_count": 161,
      "metadata": {},
      "outputs": [],
      "source": [
        "def split_data(stock, stock2, dimension):\n",
        "    data_raw = stock.to_numpy() # convert to numpy array\n",
        "    data = []\n",
        "    # create all possible sequences of length seq_len\n",
        "    for index in range(len(data_raw) - dimension):\n",
        "        data.append(data_raw[index: index + dimension])\n",
        "        \n",
        "    data = np.array(data)\n",
        "\n",
        "    test_set_size = int(np.round(0.2*data.shape[0]))\n",
        "    train_set_size = data.shape[0] - (test_set_size)\n",
        "\n",
        "    # The total data set is 2013, then test_set_size = rouly 400?\n",
        "    # train - 1613\n",
        "    \n",
        "    x_train = data[:train_set_size,:-1,:]\n",
        "    y_train = data[:train_set_size,-1,:]\n",
        "    \n",
        "    x_test = data[train_set_size:,:-1]\n",
        "    y_test = data[train_set_size:,-1,:]\n",
        "    \n",
        "    return [x_train, y_train, x_test, y_test]\n",
        "\n",
        "def SP(origianl , stock, lookback):\n",
        "    data_raw = stock.to_numpy() # convert to numpy array\n",
        "    data = []\n",
        "    # create all possible sequences of length seq_len\n",
        "    for index in range(len(data_raw) - lookback):\n",
        "        data.append(data_raw[index: index + lookback])\n",
        "    \n",
        "    data = np.array(data)\n",
        "    print(data.shape)\n",
        "    print(len(data))\n",
        "    print(len(data[0]))\n",
        "    test_set_size = int(np.round(0.2*data.shape[0]))\n",
        "    train_set_size = data.shape[0] - (test_set_size)\n",
        "    \n",
        "    x_train = data[:train_set_size,:-1,:]\n",
        "    y_train = data[:train_set_size,-1,:]\n",
        "    \n",
        "    x_test = data[train_set_size:,:-1]\n",
        "    y_test = data[train_set_size:,-1,:]\n",
        "    \n",
        "    return data"
      ]
    },
    {
      "cell_type": "markdown",
      "metadata": {
        "id": "rajds6xiNfJA"
      },
      "source": [
        "Regession line"
      ]
    },
    {
      "cell_type": "code",
      "execution_count": 162,
      "metadata": {
        "id": "vjnQETczNfJA"
      },
      "outputs": [],
      "source": [
        "def regressionLine(y):\n",
        "    days = np.size(y)\n",
        "    x = []\n",
        "    for i in range(1,days+1):\n",
        "        x.append(i)\n",
        "    x = np.array(x)\n",
        "\n",
        "    avgX = np.average(x)\n",
        "    avgY = np.average(y)\n",
        "    SumX = np.sum(x)\n",
        "    SumY = np.sum(y)\n",
        "\n",
        "    xy = 0\n",
        "    xx = 0\n",
        "    for i in range(len(x)):\n",
        "        xy = xy + (x[i]- avgX) * (y[i] - avgY)\n",
        "        xx = xx + (x[i]- avgX)**2\n",
        "    \n",
        "    slope = xy/xx\n",
        "    b = avgY - slope*avgX\n",
        "    return (b, slope)\n",
        "\n",
        "\n"
      ]
    },
    {
      "cell_type": "code",
      "execution_count": null,
      "metadata": {},
      "outputs": [],
      "source": []
    },
    {
      "cell_type": "code",
      "execution_count": 164,
      "metadata": {
        "id": "XRSNCICONfJB"
      },
      "outputs": [],
      "source": [
        "def plotRegressionLine(trainDf , testDf , company, b):\n",
        "    # plotting the actual points as scatter plot\n",
        "    testX = []\n",
        "    trainX = []\n",
        "   \n",
        "    for i in range(1, np.size(trainDf[\"Date\"]) + 1):\n",
        "        trainX.append(i)\n",
        "    trainX = np.array(trainX)\n",
        "\n",
        "\n",
        "    plt.plot(trainDf[\"Date\"], trainDf[\"Close\"], color = \"m\")\n",
        "  \n",
        "    # predicted stock price\n",
        "    y_pred = b[0] + b[1]*trainX\n",
        "  \n",
        "    # plotting the regression line\n",
        "    plt.plot(trainDf[\"Date\"], y_pred, color = \"b\")\n",
        "\n",
        "    for i in range(1, np.size(testDf[\"Date\"]) + 1):\n",
        "        testX.append(np.size(trainDf[\"Date\"]) + i)\n",
        "    testX = np.array(testX)\n",
        "    y_pred = b[0] + b[1]*testX\n",
        "    MSE = np.square(np.subtract(testDf[\"Close\"],y_pred)).mean()\n",
        "    print(\"MSE error is \", MSE)\n",
        "    plt.plot(testDf[\"Date\"], y_pred, color = \"b\")\n",
        "    plt.plot(testDf[\"Date\"], testDf[\"Close\"], color = \"r\")\n",
        "    \n",
        "    # putting labels\n",
        "    plt.xlabel('Date')\n",
        "    plt.ylabel('Stock Price')\n",
        "    plt.title(company  + \" stock price from 2010 to 2015\")\n",
        "    # function to show plot\n",
        "    plt.show()"
      ]
    },
    {
      "cell_type": "code",
      "execution_count": 165,
      "metadata": {
        "colab": {
          "base_uri": "https://localhost:8080/",
          "height": 295
        },
        "id": "VwluHff8NfJB",
        "outputId": "3b63a9ba-a61f-4024-8b29-d6da712a2d38"
      },
      "outputs": [
        {
          "name": "stdout",
          "output_type": "stream",
          "text": [
            "MSE error is  1956063.0838420792\n"
          ]
        },
        {
          "data": {
            "image/png": "[encoded data removed]",
            "text/plain": [
              "<Figure size 432x288 with 1 Axes>"
            ]
          },
          "metadata": {
            "needs_background": "light"
          },
          "output_type": "display_data"
        }
      ],
      "source": [
        "Amazonb = (regressionLine(Amazon_2010_2017[\"Close\"]))\n",
        "plotRegressionLine(Amazon_2010_2017 , Amazon_2017_2021,\"Amazon\", Amazonb)"
      ]
    },
    {
      "cell_type": "code",
      "execution_count": 166,
      "metadata": {
        "colab": {
          "base_uri": "https://localhost:8080/",
          "height": 295
        },
        "id": "cdWmxbNCNfJB",
        "outputId": "cf25dc57-b2fa-40da-fccd-9dc205c06dd8"
      },
      "outputs": [
        {
          "name": "stdout",
          "output_type": "stream",
          "text": [
            "MSE error is  535444.295454257\n"
          ]
        },
        {
          "data": {
            "image/png": "[encoded data removed]",
            "text/plain": [
              "<Figure size 432x288 with 1 Axes>"
            ]
          },
          "metadata": {
            "needs_background": "light"
          },
          "output_type": "display_data"
        }
      ],
      "source": [
        "Googleb = (regressionLine(Google_2010_2017[\"Close\"]))\n",
        "plotRegressionLine(Google_2010_2017,Google_2017_2022 ,\"Google\", Googleb)"
      ]
    },
    {
      "cell_type": "code",
      "execution_count": 167,
      "metadata": {
        "colab": {
          "base_uri": "https://localhost:8080/",
          "height": 295
        },
        "id": "TRRTg26HNfJB",
        "outputId": "bca366e0-202d-40a8-fb2b-4204db82985e"
      },
      "outputs": [
        {
          "name": "stdout",
          "output_type": "stream",
          "text": [
            "MSE error is  54292.4089322385\n"
          ]
        },
        {
          "data": {
            "image/png": "[encoded data removed]",
            "text/plain": [
              "<Figure size 432x288 with 1 Axes>"
            ]
          },
          "metadata": {
            "needs_background": "light"
          },
          "output_type": "display_data"
        }
      ],
      "source": [
        "Netflixb = (regressionLine(Netflix_2010_2017[\"Close\"]))\n",
        "plotRegressionLine(Netflix_2010_2017,Netflix_2017_2021 , \"Netflix\", Netflixb)"
      ]
    },
    {
      "cell_type": "code",
      "execution_count": null,
      "metadata": {},
      "outputs": [],
      "source": []
    },
    {
      "cell_type": "markdown",
      "metadata": {
        "id": "eemx2KiLNfJC"
      },
      "source": [
        "logistic regression linear\n",
        "# "
      ]
    },
    {
      "cell_type": "markdown",
      "metadata": {
        "id": "W0kCg2hqNfJC"
      },
      "source": [
        "LSTM\n",
        "# Pytorch"
      ]
    },
    {
      "cell_type": "code",
      "execution_count": 171,
      "metadata": {
        "id": "NdSGpVT0RRye"
      },
      "outputs": [],
      "source": [
        "class LSTM(nn.Module):\n",
        "    def __init__(self, input_dim, hidden_dim, num_layers, output_dim):\n",
        "        super(LSTM, self).__init__()\n",
        "        self.hidden_dim = hidden_dim\n",
        "        self.num_layers = num_layers\n",
        "        \n",
        "        self.lstm = nn.LSTM(input_dim, hidden_dim, num_layers, batch_first=True)\n",
        "        self.fc = nn.Linear(hidden_dim, output_dim)\n",
        "    def forward(self, x):\n",
        "        h0 = torch.zeros(self.num_layers, x.size(0), self.hidden_dim).requires_grad_()\n",
        "        c0 = torch.zeros(self.num_layers, x.size(0), self.hidden_dim).requires_grad_()\n",
        "        out, (hn, cn) = self.lstm(x, (h0.detach(), c0.detach()))\n",
        "        out = self.fc(out[:, -1, :]) \n",
        "        return out"
      ]
    },
    {
      "cell_type": "code",
      "execution_count": 187,
      "metadata": {
        "id": "wuaNeF0eiHZ-"
      },
      "outputs": [],
      "source": [
        "def trainLSTM(data , company):\n",
        "  scaler = MinMaxScaler(feature_range=(-1, 1))\n",
        "  price = data[['Close']]\n",
        "  price['Close'] = scaler.fit_transform(data[\"Close\"].values.reshape(-1,1))\n",
        "  input_dim = 1\n",
        "  hidden_dim = 50\n",
        "  num_layers = 2\n",
        "  output_dim = 1\n",
        "  num_epochs = 100\n",
        "\n",
        "\n",
        "  x_train, y_train, x_test, y_test = split_data(price, hidden_dim)\n",
        "  x_train = torch.from_numpy(x_train).type(torch.Tensor)\n",
        "  x_test = torch.from_numpy(x_test).type(torch.Tensor)\n",
        "  y_train_lstm = torch.from_numpy(y_train).type(torch.Tensor)\n",
        "  y_test_lstm = torch.from_numpy(y_test).type(torch.Tensor)\n",
        "\n",
        "  model = LSTM(input_dim=input_dim, hidden_dim=hidden_dim, output_dim=output_dim, num_layers=num_layers)\n",
        "  criterion = torch.nn.MSELoss(reduction='mean')\n",
        "  optimiser = torch.optim.Adam(model.parameters(), lr=0.01)\n",
        "\n",
        "  hist = np.zeros(num_epochs)\n",
        "  start_time = time.time()\n",
        "  lstm = []\n",
        "  for t in range(num_epochs):\n",
        "      y_train_pred = model(x_train)\n",
        "      loss = criterion(y_train_pred, y_train_lstm)\n",
        "      hist[t] = loss.item()\n",
        "      optimiser.zero_grad()\n",
        "      loss.backward()\n",
        "      optimiser.step()\n",
        "\n",
        " \n",
        "  y_trained_pred = model(x_test)\n",
        "  PredictionY = scaler.inverse_transform(y_trained_pred.detach().numpy())\n",
        "  ActualY = scaler.inverse_transform(y_test)\n",
        "  \n",
        "  xAsix=[x for x in range(len(y_trained_pred))]\n",
        "  plt.plot(xAsix, ActualY, marker='.', label=\"actual\")\n",
        "  plt.plot(xAsix, PredictionY, 'r', label=\"prediction\")\n",
        "  plt.ylabel('Stock Price', size=15)\n",
        "  plt.xlabel('Number of day testing', size=15)\n",
        "  plt.title(company + \" stock\")\n",
        "  plt.show()\n"
      ]
    },
    {
      "cell_type": "code",
      "execution_count": 188,
      "metadata": {
        "id": "1zM7Ft1mXJHW"
      },
      "outputs": [
        {
          "name": "stderr",
          "output_type": "stream",
          "text": [
            "C:\\Users\\ohmin\\AppData\\Local\\Temp/ipykernel_1216/2755508906.py:4: SettingWithCopyWarning: \n",
            "A value is trying to be set on a copy of a slice from a DataFrame.\n",
            "Try using .loc[row_indexer,col_indexer] = value instead\n",
            "\n",
            "See the caveats in the documentation: https://pandas.pydata.org/pandas-docs/stable/user_guide/indexing.html#returning-a-view-versus-a-copy\n",
            "  price['Close'] = scaler.fit_transform(data[\"Close\"].values.reshape(-1,1))\n"
          ]
        },
        {
          "data": {
            "image/png": "[encoded data removed]",
            "text/plain": [
              "<Figure size 432x288 with 1 Axes>"
            ]
          },
          "metadata": {
            "needs_background": "light"
          },
          "output_type": "display_data"
        }
      ],
      "source": [
        "trainLSTM(Netflix_2010_2017 , \"Netflix\")"
      ]
    },
    {
      "cell_type": "code",
      "execution_count": 174,
      "metadata": {
        "id": "NdAnj4e7XM47"
      },
      "outputs": [
        {
          "name": "stderr",
          "output_type": "stream",
          "text": [
            "C:\\Users\\ohmin\\AppData\\Local\\Temp/ipykernel_1216/4246403028.py:4: SettingWithCopyWarning: \n",
            "A value is trying to be set on a copy of a slice from a DataFrame.\n",
            "Try using .loc[row_indexer,col_indexer] = value instead\n",
            "\n",
            "See the caveats in the documentation: https://pandas.pydata.org/pandas-docs/stable/user_guide/indexing.html#returning-a-view-versus-a-copy\n",
            "  price['Close'] = scaler.fit_transform(data[\"Close\"].values.reshape(-1,1))\n"
          ]
        },
        {
          "data": {
            "image/png": "[encoded data removed]",
            "text/plain": [
              "<Figure size 432x288 with 1 Axes>"
            ]
          },
          "metadata": {
            "needs_background": "light"
          },
          "output_type": "display_data"
        }
      ],
      "source": [
        "trainLSTM(Google_2010_2017 , \"Google\")"
      ]
    },
    {
      "cell_type": "code",
      "execution_count": 175,
      "metadata": {
        "id": "xHIp6GLVXVoR"
      },
      "outputs": [
        {
          "name": "stderr",
          "output_type": "stream",
          "text": [
            "C:\\Users\\ohmin\\AppData\\Local\\Temp/ipykernel_1216/4246403028.py:4: SettingWithCopyWarning: \n",
            "A value is trying to be set on a copy of a slice from a DataFrame.\n",
            "Try using .loc[row_indexer,col_indexer] = value instead\n",
            "\n",
            "See the caveats in the documentation: https://pandas.pydata.org/pandas-docs/stable/user_guide/indexing.html#returning-a-view-versus-a-copy\n",
            "  price['Close'] = scaler.fit_transform(data[\"Close\"].values.reshape(-1,1))\n"
          ]
        },
        {
          "data": {
            "image/png": "[encoded data removed]",
            "text/plain": [
              "<Figure size 432x288 with 1 Axes>"
            ]
          },
          "metadata": {
            "needs_background": "light"
          },
          "output_type": "display_data"
        }
      ],
      "source": [
        "trainLSTM(Amazon_2010_2017 , \"Amazon\")"
      ]
    },
    {
      "cell_type": "code",
      "execution_count": null,
      "metadata": {
        "id": "F-U7ZhmHgA0B"
      },
      "outputs": [],
      "source": []
    },
    {
      "cell_type": "markdown",
      "metadata": {
        "id": "mrgcQKKgNfJC"
      },
      "source": [
        "GRU\n",
        "# pytorch"
      ]
    },
    {
      "cell_type": "code",
      "execution_count": 176,
      "metadata": {
        "id": "8UtE3dcVRMCH"
      },
      "outputs": [],
      "source": [
        "class GRU(nn.Module):\n",
        "    def __init__(self, input_dim, hidden_dim, num_layers, output_dim):\n",
        "        super(GRU, self).__init__()\n",
        "        self.hidden_dim = hidden_dim\n",
        "        self.num_layers = num_layers\n",
        "        \n",
        "        self.gru = nn.GRU(input_dim, hidden_dim, num_layers, batch_first=True)\n",
        "        self.fc = nn.Linear(hidden_dim, output_dim)\n",
        "\n",
        "    def forward(self, x):\n",
        "        h0 = torch.zeros(self.num_layers, x.size(0), self.hidden_dim).requires_grad_()\n",
        "        out, (hn) = self.gru(x, (h0.detach()))\n",
        "        out = self.fc(out[:, -1, :]) \n",
        "        return out"
      ]
    },
    {
      "cell_type": "code",
      "execution_count": 177,
      "metadata": {
        "id": "WdXfZ2Ruksd7"
      },
      "outputs": [],
      "source": [
        "def trainGRU(data , company):\n",
        "  scaler = MinMaxScaler(feature_range=(-1, 1))\n",
        "  price = data[['Close']]\n",
        "  price['Close'] = scaler.fit_transform(data[\"Close\"].values.reshape(-1,1))\n",
        "  input_dim = 1\n",
        "  hidden_dim = 50\n",
        "  num_layers = 2\n",
        "  output_dim = 1\n",
        "  num_epochs = 100\n",
        "\n",
        "  x_train, y_train, x_test, y_test = split_data(price, hidden_dim)\n",
        "  x_train = torch.from_numpy(x_train).type(torch.Tensor)\n",
        "  x_test = torch.from_numpy(x_test).type(torch.Tensor)\n",
        "  y_train_lstm = torch.from_numpy(y_train).type(torch.Tensor)\n",
        "  y_test_lstm = torch.from_numpy(y_test).type(torch.Tensor)\n",
        "\n",
        "  model = GRU(input_dim=input_dim, hidden_dim=hidden_dim, output_dim=output_dim, num_layers=num_layers)\n",
        "  criterion = torch.nn.MSELoss(reduction='mean')\n",
        "  optimiser = torch.optim.Adam(model.parameters(), lr=0.01)\n",
        "\n",
        "  hist = np.zeros(num_epochs)\n",
        "  lstm = []\n",
        "  for t in range(num_epochs):\n",
        "      y_train_pred = model(x_train)\n",
        "      loss = criterion(y_train_pred, y_train_lstm)\n",
        "      hist[t] = loss.item()\n",
        "      optimiser.zero_grad()\n",
        "      loss.backward()\n",
        "      optimiser.step()\n",
        "  \n",
        "  y_trained_pred = model(x_test)\n",
        "  PredictionY = scaler.inverse_transform(y_trained_pred.detach().numpy())\n",
        "  ActualY = scaler.inverse_transform(y_test)\n",
        "  Xaxis=[x for x in range(len(y_trained_pred))]\n",
        "  plt.plot(Xaxis, ActualY, marker='.', label=\"actual\")\n",
        "  plt.plot(Xaxis, PredictionY, 'r', label=\"prediction\")\n",
        "  plt.ylabel('Stock Price', size=15)\n",
        "  plt.xlabel('Number of day testing', size=15)\n",
        "  plt.title(company + \" stock\")\n",
        "  plt.show()"
      ]
    },
    {
      "cell_type": "code",
      "execution_count": 178,
      "metadata": {
        "id": "PEtjEIVplRYA"
      },
      "outputs": [
        {
          "name": "stderr",
          "output_type": "stream",
          "text": [
            "C:\\Users\\ohmin\\AppData\\Local\\Temp/ipykernel_1216/1310124072.py:4: SettingWithCopyWarning: \n",
            "A value is trying to be set on a copy of a slice from a DataFrame.\n",
            "Try using .loc[row_indexer,col_indexer] = value instead\n",
            "\n",
            "See the caveats in the documentation: https://pandas.pydata.org/pandas-docs/stable/user_guide/indexing.html#returning-a-view-versus-a-copy\n",
            "  price['Close'] = scaler.fit_transform(data[\"Close\"].values.reshape(-1,1))\n"
          ]
        },
        {
          "data": {
            "image/png": "[encoded data removed]",
            "text/plain": [
              "<Figure size 432x288 with 1 Axes>"
            ]
          },
          "metadata": {
            "needs_background": "light"
          },
          "output_type": "display_data"
        }
      ],
      "source": [
        "trainGRU(Google_2010_2017 , \"Google\")"
      ]
    },
    {
      "cell_type": "code",
      "execution_count": 179,
      "metadata": {
        "id": "zTkzKwrtlReh"
      },
      "outputs": [
        {
          "name": "stderr",
          "output_type": "stream",
          "text": [
            "C:\\Users\\ohmin\\AppData\\Local\\Temp/ipykernel_1216/1310124072.py:4: SettingWithCopyWarning: \n",
            "A value is trying to be set on a copy of a slice from a DataFrame.\n",
            "Try using .loc[row_indexer,col_indexer] = value instead\n",
            "\n",
            "See the caveats in the documentation: https://pandas.pydata.org/pandas-docs/stable/user_guide/indexing.html#returning-a-view-versus-a-copy\n",
            "  price['Close'] = scaler.fit_transform(data[\"Close\"].values.reshape(-1,1))\n"
          ]
        },
        {
          "data": {
            "image/png": "[encoded data removed]",
            "text/plain": [
              "<Figure size 432x288 with 1 Axes>"
            ]
          },
          "metadata": {
            "needs_background": "light"
          },
          "output_type": "display_data"
        }
      ],
      "source": [
        "trainGRU(Netflix_2010_2017 , \"Netflix\")"
      ]
    },
    {
      "cell_type": "code",
      "execution_count": 180,
      "metadata": {
        "id": "Q7xQzdDjlRiM"
      },
      "outputs": [
        {
          "name": "stderr",
          "output_type": "stream",
          "text": [
            "C:\\Users\\ohmin\\AppData\\Local\\Temp/ipykernel_1216/1310124072.py:4: SettingWithCopyWarning: \n",
            "A value is trying to be set on a copy of a slice from a DataFrame.\n",
            "Try using .loc[row_indexer,col_indexer] = value instead\n",
            "\n",
            "See the caveats in the documentation: https://pandas.pydata.org/pandas-docs/stable/user_guide/indexing.html#returning-a-view-versus-a-copy\n",
            "  price['Close'] = scaler.fit_transform(data[\"Close\"].values.reshape(-1,1))\n"
          ]
        },
        {
          "data": {
            "image/png": "[encoded data removed]",
            "text/plain": [
              "<Figure size 432x288 with 1 Axes>"
            ]
          },
          "metadata": {
            "needs_background": "light"
          },
          "output_type": "display_data"
        }
      ],
      "source": [
        "trainGRU(Amazon_2010_2017 , \"Amazon\")"
      ]
    }
  ],
  "metadata": {
    "colab": {
      "include_colab_link": true,
      "provenance": []
    },
    "kernelspec": {
      "display_name": "Python 3.9.7 ('base')",
      "language": "python",
      "name": "python3"
    },
    "language_info": {
      "codemirror_mode": {
        "name": "ipython",
        "version": 3
      },
      "file_extension": ".py",
      "mimetype": "text/x-python",
      "name": "python",
      "nbconvert_exporter": "python",
      "pygments_lexer": "ipython3",
      "version": "3.9.7"
    },
    "orig_nbformat": 4,
    "vscode": {
      "interpreter": {
        "hash": "3a4a3d6e9494e8dc5d377ba58fd73fbf17983ff319a8217b25b13acf8c666d9a"
      }
    }
  },
  "nbformat": 4,
  "nbformat_minor": 0
}
