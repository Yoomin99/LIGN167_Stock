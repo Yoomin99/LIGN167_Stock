{
  "cells": [
    {
      "cell_type": "markdown",
      "metadata": {
        "id": "view-in-github",
        "colab_type": "text"
      },
      "source": [
        "<a href=\"https://colab.research.google.com/github/Yoomin99/LIGN167_Stock/blob/main/Copy_of_LIGN167_Stock.ipynb\" target=\"_parent\"><img src=\"https://colab.research.google.com/assets/colab-badge.svg\" alt=\"Open In Colab\"/></a>"
      ]
    },
    {
      "cell_type": "markdown",
      "metadata": {
        "id": "60K5sL90NfI9"
      },
      "source": [
        "LIGN 167 Stock prediction Final projects\n",
        "- https://medium.com/swlh/stock-price-prediction-with-pytorch-37f52ae84632\n",
        " \n",
        "\n",
        "Names"
      ]
    },
    {
      "cell_type": "markdown",
      "metadata": {
        "id": "UvXYcp61NfI-"
      },
      "source": [
        "Data sources\n",
        "- https://www.kaggle.com/datasets/kannan1314/amazon-stock-price-all-time\n",
        "- https://www.kaggle.com/datasets/varpit94/google-stock-data\n",
        "- https://www.kaggle.com/datasets/akpmpr/updated-netflix-stock-price-all-time\n",
        "\n",
        "Code sources  "
      ]
    },
    {
      "cell_type": "code",
      "execution_count": null,
      "metadata": {
        "id": "ReRnBiC6NfI-"
      },
      "outputs": [],
      "source": [
        "import pandas as pd\n",
        "import numpy as np\n",
        "import matplotlib.pyplot as plt\n",
        "import torch\n",
        "import torch.nn as nn\n"
      ]
    },
    {
      "cell_type": "markdown",
      "metadata": {
        "id": "g93P9-gNNfI_"
      },
      "source": [
        "Data Frame"
      ]
    },
    {
      "cell_type": "code",
      "execution_count": null,
      "metadata": {
        "id": "MnBELw03NfI_",
        "outputId": "ddf51843-5820-4a70-d735-4cd7e3d3aaef",
        "colab": {
          "base_uri": "https://localhost:8080/",
          "height": 424
        }
      },
      "outputs": [
        {
          "output_type": "execute_result",
          "data": {
            "text/plain": [
              "           Date        Open        High         Low       Close   Adj Close  \\\n",
              "0    2010-01-04  136.250000  136.610001  133.139999  133.899994  133.899994   \n",
              "1    2010-01-05  133.429993  135.479996  131.809998  134.690002  134.690002   \n",
              "2    2010-01-06  134.600006  134.729996  131.649994  132.250000  132.250000   \n",
              "3    2010-01-07  132.009995  132.320007  128.800003  130.000000  130.000000   \n",
              "4    2010-01-08  130.559998  133.679993  129.029999  133.520004  133.520004   \n",
              "...         ...         ...         ...         ...         ...         ...   \n",
              "1505 2015-12-24  663.349976  664.679993  660.599976  662.789978  662.789978   \n",
              "1506 2015-12-28  665.559998  675.500000  665.500000  675.200012  675.200012   \n",
              "1507 2015-12-29  677.979980  696.440002  677.890015  693.969971  693.969971   \n",
              "1508 2015-12-30  691.890015  695.489990  686.380005  689.070007  689.070007   \n",
              "1509 2015-12-31  686.080017  687.750000  675.890015  675.890015  675.890015   \n",
              "\n",
              "        Volume  \n",
              "0      7599900  \n",
              "1      8851900  \n",
              "2      7178800  \n",
              "3     11030200  \n",
              "4      9830500  \n",
              "...        ...  \n",
              "1505   1091200  \n",
              "1506   3783600  \n",
              "1507   5735000  \n",
              "1508   3519000  \n",
              "1509   3749600  \n",
              "\n",
              "[1510 rows x 7 columns]"
            ],
            "text/html": [
              "\n",
              "  <div id=\"df-ef9d9ad5-7fe3-48a5-9ae2-2d69e4ae506f\">\n",
              "    <div class=\"colab-df-container\">\n",
              "      <div>\n",
              "<style scoped>\n",
              "    .dataframe tbody tr th:only-of-type {\n",
              "        vertical-align: middle;\n",
              "    }\n",
              "\n",
              "    .dataframe tbody tr th {\n",
              "        vertical-align: top;\n",
              "    }\n",
              "\n",
              "    .dataframe thead th {\n",
              "        text-align: right;\n",
              "    }\n",
              "</style>\n",
              "<table border=\"1\" class=\"dataframe\">\n",
              "  <thead>\n",
              "    <tr style=\"text-align: right;\">\n",
              "      <th></th>\n",
              "      <th>Date</th>\n",
              "      <th>Open</th>\n",
              "      <th>High</th>\n",
              "      <th>Low</th>\n",
              "      <th>Close</th>\n",
              "      <th>Adj Close</th>\n",
              "      <th>Volume</th>\n",
              "    </tr>\n",
              "  </thead>\n",
              "  <tbody>\n",
              "    <tr>\n",
              "      <th>0</th>\n",
              "      <td>2010-01-04</td>\n",
              "      <td>136.250000</td>\n",
              "      <td>136.610001</td>\n",
              "      <td>133.139999</td>\n",
              "      <td>133.899994</td>\n",
              "      <td>133.899994</td>\n",
              "      <td>7599900</td>\n",
              "    </tr>\n",
              "    <tr>\n",
              "      <th>1</th>\n",
              "      <td>2010-01-05</td>\n",
              "      <td>133.429993</td>\n",
              "      <td>135.479996</td>\n",
              "      <td>131.809998</td>\n",
              "      <td>134.690002</td>\n",
              "      <td>134.690002</td>\n",
              "      <td>8851900</td>\n",
              "    </tr>\n",
              "    <tr>\n",
              "      <th>2</th>\n",
              "      <td>2010-01-06</td>\n",
              "      <td>134.600006</td>\n",
              "      <td>134.729996</td>\n",
              "      <td>131.649994</td>\n",
              "      <td>132.250000</td>\n",
              "      <td>132.250000</td>\n",
              "      <td>7178800</td>\n",
              "    </tr>\n",
              "    <tr>\n",
              "      <th>3</th>\n",
              "      <td>2010-01-07</td>\n",
              "      <td>132.009995</td>\n",
              "      <td>132.320007</td>\n",
              "      <td>128.800003</td>\n",
              "      <td>130.000000</td>\n",
              "      <td>130.000000</td>\n",
              "      <td>11030200</td>\n",
              "    </tr>\n",
              "    <tr>\n",
              "      <th>4</th>\n",
              "      <td>2010-01-08</td>\n",
              "      <td>130.559998</td>\n",
              "      <td>133.679993</td>\n",
              "      <td>129.029999</td>\n",
              "      <td>133.520004</td>\n",
              "      <td>133.520004</td>\n",
              "      <td>9830500</td>\n",
              "    </tr>\n",
              "    <tr>\n",
              "      <th>...</th>\n",
              "      <td>...</td>\n",
              "      <td>...</td>\n",
              "      <td>...</td>\n",
              "      <td>...</td>\n",
              "      <td>...</td>\n",
              "      <td>...</td>\n",
              "      <td>...</td>\n",
              "    </tr>\n",
              "    <tr>\n",
              "      <th>1505</th>\n",
              "      <td>2015-12-24</td>\n",
              "      <td>663.349976</td>\n",
              "      <td>664.679993</td>\n",
              "      <td>660.599976</td>\n",
              "      <td>662.789978</td>\n",
              "      <td>662.789978</td>\n",
              "      <td>1091200</td>\n",
              "    </tr>\n",
              "    <tr>\n",
              "      <th>1506</th>\n",
              "      <td>2015-12-28</td>\n",
              "      <td>665.559998</td>\n",
              "      <td>675.500000</td>\n",
              "      <td>665.500000</td>\n",
              "      <td>675.200012</td>\n",
              "      <td>675.200012</td>\n",
              "      <td>3783600</td>\n",
              "    </tr>\n",
              "    <tr>\n",
              "      <th>1507</th>\n",
              "      <td>2015-12-29</td>\n",
              "      <td>677.979980</td>\n",
              "      <td>696.440002</td>\n",
              "      <td>677.890015</td>\n",
              "      <td>693.969971</td>\n",
              "      <td>693.969971</td>\n",
              "      <td>5735000</td>\n",
              "    </tr>\n",
              "    <tr>\n",
              "      <th>1508</th>\n",
              "      <td>2015-12-30</td>\n",
              "      <td>691.890015</td>\n",
              "      <td>695.489990</td>\n",
              "      <td>686.380005</td>\n",
              "      <td>689.070007</td>\n",
              "      <td>689.070007</td>\n",
              "      <td>3519000</td>\n",
              "    </tr>\n",
              "    <tr>\n",
              "      <th>1509</th>\n",
              "      <td>2015-12-31</td>\n",
              "      <td>686.080017</td>\n",
              "      <td>687.750000</td>\n",
              "      <td>675.890015</td>\n",
              "      <td>675.890015</td>\n",
              "      <td>675.890015</td>\n",
              "      <td>3749600</td>\n",
              "    </tr>\n",
              "  </tbody>\n",
              "</table>\n",
              "<p>1510 rows × 7 columns</p>\n",
              "</div>\n",
              "      <button class=\"colab-df-convert\" onclick=\"convertToInteractive('df-ef9d9ad5-7fe3-48a5-9ae2-2d69e4ae506f')\"\n",
              "              title=\"Convert this dataframe to an interactive table.\"\n",
              "              style=\"display:none;\">\n",
              "        \n",
              "  <svg xmlns=\"http://www.w3.org/2000/svg\" height=\"24px\"viewBox=\"0 0 24 24\"\n",
              "       width=\"24px\">\n",
              "    <path d=\"M0 0h24v24H0V0z\" fill=\"none\"/>\n",
              "    <path d=\"M18.56 5.44l.94 2.06.94-2.06 2.06-.94-2.06-.94-.94-2.06-.94 2.06-2.06.94zm-11 1L8.5 8.5l.94-2.06 2.06-.94-2.06-.94L8.5 2.5l-.94 2.06-2.06.94zm10 10l.94 2.06.94-2.06 2.06-.94-2.06-.94-.94-2.06-.94 2.06-2.06.94z\"/><path d=\"M17.41 7.96l-1.37-1.37c-.4-.4-.92-.59-1.43-.59-.52 0-1.04.2-1.43.59L10.3 9.45l-7.72 7.72c-.78.78-.78 2.05 0 2.83L4 21.41c.39.39.9.59 1.41.59.51 0 1.02-.2 1.41-.59l7.78-7.78 2.81-2.81c.8-.78.8-2.07 0-2.86zM5.41 20L4 18.59l7.72-7.72 1.47 1.35L5.41 20z\"/>\n",
              "  </svg>\n",
              "      </button>\n",
              "      \n",
              "  <style>\n",
              "    .colab-df-container {\n",
              "      display:flex;\n",
              "      flex-wrap:wrap;\n",
              "      gap: 12px;\n",
              "    }\n",
              "\n",
              "    .colab-df-convert {\n",
              "      background-color: #E8F0FE;\n",
              "      border: none;\n",
              "      border-radius: 50%;\n",
              "      cursor: pointer;\n",
              "      display: none;\n",
              "      fill: #1967D2;\n",
              "      height: 32px;\n",
              "      padding: 0 0 0 0;\n",
              "      width: 32px;\n",
              "    }\n",
              "\n",
              "    .colab-df-convert:hover {\n",
              "      background-color: #E2EBFA;\n",
              "      box-shadow: 0px 1px 2px rgba(60, 64, 67, 0.3), 0px 1px 3px 1px rgba(60, 64, 67, 0.15);\n",
              "      fill: #174EA6;\n",
              "    }\n",
              "\n",
              "    [theme=dark] .colab-df-convert {\n",
              "      background-color: #3B4455;\n",
              "      fill: #D2E3FC;\n",
              "    }\n",
              "\n",
              "    [theme=dark] .colab-df-convert:hover {\n",
              "      background-color: #434B5C;\n",
              "      box-shadow: 0px 1px 3px 1px rgba(0, 0, 0, 0.15);\n",
              "      filter: drop-shadow(0px 1px 2px rgba(0, 0, 0, 0.3));\n",
              "      fill: #FFFFFF;\n",
              "    }\n",
              "  </style>\n",
              "\n",
              "      <script>\n",
              "        const buttonEl =\n",
              "          document.querySelector('#df-ef9d9ad5-7fe3-48a5-9ae2-2d69e4ae506f button.colab-df-convert');\n",
              "        buttonEl.style.display =\n",
              "          google.colab.kernel.accessAllowed ? 'block' : 'none';\n",
              "\n",
              "        async function convertToInteractive(key) {\n",
              "          const element = document.querySelector('#df-ef9d9ad5-7fe3-48a5-9ae2-2d69e4ae506f');\n",
              "          const dataTable =\n",
              "            await google.colab.kernel.invokeFunction('convertToInteractive',\n",
              "                                                     [key], {});\n",
              "          if (!dataTable) return;\n",
              "\n",
              "          const docLinkHtml = 'Like what you see? Visit the ' +\n",
              "            '<a target=\"_blank\" href=https://colab.research.google.com/notebooks/data_table.ipynb>data table notebook</a>'\n",
              "            + ' to learn more about interactive tables.';\n",
              "          element.innerHTML = '';\n",
              "          dataTable['output_type'] = 'display_data';\n",
              "          await google.colab.output.renderOutput(dataTable, element);\n",
              "          const docLink = document.createElement('div');\n",
              "          docLink.innerHTML = docLinkHtml;\n",
              "          element.appendChild(docLink);\n",
              "        }\n",
              "      </script>\n",
              "    </div>\n",
              "  </div>\n",
              "  "
            ]
          },
          "metadata": {},
          "execution_count": 3
        }
      ],
      "source": [
        "Amazon = pd.read_csv(\"./Amazon.csv\")\n",
        "Amazon['Date'] = pd.to_datetime(Amazon['Date'])\n",
        "Amazon_2010_2015 = Amazon[~(Amazon['Date'] > '2015-12-31')]\n",
        "Amazon_2010_2015 = Amazon_2010_2015[~(Amazon_2010_2015['Date'] < '2010-1-1')].reset_index(drop = True)\n",
        "Amazon_2010_2015"
      ]
    },
    {
      "cell_type": "code",
      "execution_count": null,
      "metadata": {
        "id": "8jpj4IpSNfJA",
        "outputId": "93bb343b-5270-4a36-a284-1ccb3246ba34"
      },
      "outputs": [
        {
          "data": {
            "text/html": [
              "<div>\n",
              "<style scoped>\n",
              "    .dataframe tbody tr th:only-of-type {\n",
              "        vertical-align: middle;\n",
              "    }\n",
              "\n",
              "    .dataframe tbody tr th {\n",
              "        vertical-align: top;\n",
              "    }\n",
              "\n",
              "    .dataframe thead th {\n",
              "        text-align: right;\n",
              "    }\n",
              "</style>\n",
              "<table border=\"1\" class=\"dataframe\">\n",
              "  <thead>\n",
              "    <tr style=\"text-align: right;\">\n",
              "      <th></th>\n",
              "      <th>Date</th>\n",
              "      <th>Open</th>\n",
              "      <th>High</th>\n",
              "      <th>Low</th>\n",
              "      <th>Close</th>\n",
              "      <th>Adj Close</th>\n",
              "      <th>Volume</th>\n",
              "    </tr>\n",
              "  </thead>\n",
              "  <tbody>\n",
              "    <tr>\n",
              "      <th>0</th>\n",
              "      <td>2015-01-02</td>\n",
              "      <td>532.599976</td>\n",
              "      <td>535.799988</td>\n",
              "      <td>527.880005</td>\n",
              "      <td>529.549988</td>\n",
              "      <td>529.549988</td>\n",
              "      <td>1324000</td>\n",
              "    </tr>\n",
              "    <tr>\n",
              "      <th>1</th>\n",
              "      <td>2015-01-05</td>\n",
              "      <td>527.150024</td>\n",
              "      <td>527.989990</td>\n",
              "      <td>517.750000</td>\n",
              "      <td>519.460022</td>\n",
              "      <td>519.460022</td>\n",
              "      <td>2059100</td>\n",
              "    </tr>\n",
              "    <tr>\n",
              "      <th>2</th>\n",
              "      <td>2015-01-06</td>\n",
              "      <td>520.500000</td>\n",
              "      <td>521.210022</td>\n",
              "      <td>505.549988</td>\n",
              "      <td>506.640015</td>\n",
              "      <td>506.640015</td>\n",
              "      <td>2722800</td>\n",
              "    </tr>\n",
              "    <tr>\n",
              "      <th>3</th>\n",
              "      <td>2015-01-07</td>\n",
              "      <td>510.950012</td>\n",
              "      <td>511.489990</td>\n",
              "      <td>503.649994</td>\n",
              "      <td>505.149994</td>\n",
              "      <td>505.149994</td>\n",
              "      <td>2345900</td>\n",
              "    </tr>\n",
              "    <tr>\n",
              "      <th>4</th>\n",
              "      <td>2015-01-08</td>\n",
              "      <td>501.510010</td>\n",
              "      <td>507.500000</td>\n",
              "      <td>495.019989</td>\n",
              "      <td>506.910004</td>\n",
              "      <td>506.910004</td>\n",
              "      <td>3652700</td>\n",
              "    </tr>\n",
              "    <tr>\n",
              "      <th>...</th>\n",
              "      <td>...</td>\n",
              "      <td>...</td>\n",
              "      <td>...</td>\n",
              "      <td>...</td>\n",
              "      <td>...</td>\n",
              "      <td>...</td>\n",
              "      <td>...</td>\n",
              "    </tr>\n",
              "    <tr>\n",
              "      <th>247</th>\n",
              "      <td>2015-12-24</td>\n",
              "      <td>768.520020</td>\n",
              "      <td>769.200012</td>\n",
              "      <td>764.390015</td>\n",
              "      <td>765.840027</td>\n",
              "      <td>765.840027</td>\n",
              "      <td>520600</td>\n",
              "    </tr>\n",
              "    <tr>\n",
              "      <th>248</th>\n",
              "      <td>2015-12-28</td>\n",
              "      <td>770.000000</td>\n",
              "      <td>782.820007</td>\n",
              "      <td>767.729980</td>\n",
              "      <td>782.239990</td>\n",
              "      <td>782.239990</td>\n",
              "      <td>1557800</td>\n",
              "    </tr>\n",
              "    <tr>\n",
              "      <th>249</th>\n",
              "      <td>2015-12-29</td>\n",
              "      <td>786.989990</td>\n",
              "      <td>798.690002</td>\n",
              "      <td>786.200012</td>\n",
              "      <td>793.960022</td>\n",
              "      <td>793.960022</td>\n",
              "      <td>1921500</td>\n",
              "    </tr>\n",
              "    <tr>\n",
              "      <th>250</th>\n",
              "      <td>2015-12-30</td>\n",
              "      <td>793.960022</td>\n",
              "      <td>796.460022</td>\n",
              "      <td>787.200012</td>\n",
              "      <td>790.299988</td>\n",
              "      <td>790.299988</td>\n",
              "      <td>1428300</td>\n",
              "    </tr>\n",
              "    <tr>\n",
              "      <th>251</th>\n",
              "      <td>2015-12-31</td>\n",
              "      <td>787.820007</td>\n",
              "      <td>788.330017</td>\n",
              "      <td>777.320007</td>\n",
              "      <td>778.010010</td>\n",
              "      <td>778.010010</td>\n",
              "      <td>1637600</td>\n",
              "    </tr>\n",
              "  </tbody>\n",
              "</table>\n",
              "<p>252 rows × 7 columns</p>\n",
              "</div>"
            ],
            "text/plain": [
              "          Date        Open        High         Low       Close   Adj Close  \\\n",
              "0   2015-01-02  532.599976  535.799988  527.880005  529.549988  529.549988   \n",
              "1   2015-01-05  527.150024  527.989990  517.750000  519.460022  519.460022   \n",
              "2   2015-01-06  520.500000  521.210022  505.549988  506.640015  506.640015   \n",
              "3   2015-01-07  510.950012  511.489990  503.649994  505.149994  505.149994   \n",
              "4   2015-01-08  501.510010  507.500000  495.019989  506.910004  506.910004   \n",
              "..         ...         ...         ...         ...         ...         ...   \n",
              "247 2015-12-24  768.520020  769.200012  764.390015  765.840027  765.840027   \n",
              "248 2015-12-28  770.000000  782.820007  767.729980  782.239990  782.239990   \n",
              "249 2015-12-29  786.989990  798.690002  786.200012  793.960022  793.960022   \n",
              "250 2015-12-30  793.960022  796.460022  787.200012  790.299988  790.299988   \n",
              "251 2015-12-31  787.820007  788.330017  777.320007  778.010010  778.010010   \n",
              "\n",
              "      Volume  \n",
              "0    1324000  \n",
              "1    2059100  \n",
              "2    2722800  \n",
              "3    2345900  \n",
              "4    3652700  \n",
              "..       ...  \n",
              "247   520600  \n",
              "248  1557800  \n",
              "249  1921500  \n",
              "250  1428300  \n",
              "251  1637600  \n",
              "\n",
              "[252 rows x 7 columns]"
            ]
          },
          "execution_count": 286,
          "metadata": {},
          "output_type": "execute_result"
        }
      ],
      "source": [
        "Google = pd.read_csv(\"./GOOGL.csv\")\n",
        "Google['Date'] = pd.to_datetime(Google['Date'])\n",
        "Google_2010_2015 = Google[~(Google['Date'] > '2015-12-31')]\n",
        "Google_2010_2015 = Google_2010_2015[~(Google_2010_2015['Date'] < '2010-1-1')].reset_index(drop = True)\n",
        "Google_2010_2015"
      ]
    },
    {
      "cell_type": "code",
      "execution_count": null,
      "metadata": {
        "id": "yKqTuGfyNfJA",
        "outputId": "8c2853e7-fbed-4080-9765-8ff32ed1a7ed"
      },
      "outputs": [
        {
          "data": {
            "text/html": [
              "<div>\n",
              "<style scoped>\n",
              "    .dataframe tbody tr th:only-of-type {\n",
              "        vertical-align: middle;\n",
              "    }\n",
              "\n",
              "    .dataframe tbody tr th {\n",
              "        vertical-align: top;\n",
              "    }\n",
              "\n",
              "    .dataframe thead th {\n",
              "        text-align: right;\n",
              "    }\n",
              "</style>\n",
              "<table border=\"1\" class=\"dataframe\">\n",
              "  <thead>\n",
              "    <tr style=\"text-align: right;\">\n",
              "      <th></th>\n",
              "      <th>Date</th>\n",
              "      <th>High</th>\n",
              "      <th>Low</th>\n",
              "      <th>Open</th>\n",
              "      <th>Close</th>\n",
              "      <th>Volume</th>\n",
              "      <th>Adj Close</th>\n",
              "    </tr>\n",
              "  </thead>\n",
              "  <tbody>\n",
              "    <tr>\n",
              "      <th>0</th>\n",
              "      <td>2010-01-04</td>\n",
              "      <td>7.961429</td>\n",
              "      <td>7.565714</td>\n",
              "      <td>7.931429</td>\n",
              "      <td>7.640000</td>\n",
              "      <td>17239600.0</td>\n",
              "      <td>7.640000</td>\n",
              "    </tr>\n",
              "    <tr>\n",
              "      <th>1</th>\n",
              "      <td>2010-01-05</td>\n",
              "      <td>7.657143</td>\n",
              "      <td>7.258571</td>\n",
              "      <td>7.652857</td>\n",
              "      <td>7.358571</td>\n",
              "      <td>23753100.0</td>\n",
              "      <td>7.358571</td>\n",
              "    </tr>\n",
              "    <tr>\n",
              "      <th>2</th>\n",
              "      <td>2010-01-06</td>\n",
              "      <td>7.672857</td>\n",
              "      <td>7.197143</td>\n",
              "      <td>7.361429</td>\n",
              "      <td>7.617143</td>\n",
              "      <td>23290400.0</td>\n",
              "      <td>7.617143</td>\n",
              "    </tr>\n",
              "    <tr>\n",
              "      <th>3</th>\n",
              "      <td>2010-01-07</td>\n",
              "      <td>7.757143</td>\n",
              "      <td>7.462857</td>\n",
              "      <td>7.731429</td>\n",
              "      <td>7.485714</td>\n",
              "      <td>9955400.0</td>\n",
              "      <td>7.485714</td>\n",
              "    </tr>\n",
              "    <tr>\n",
              "      <th>4</th>\n",
              "      <td>2010-01-08</td>\n",
              "      <td>7.742857</td>\n",
              "      <td>7.465714</td>\n",
              "      <td>7.498571</td>\n",
              "      <td>7.614286</td>\n",
              "      <td>8180900.0</td>\n",
              "      <td>7.614286</td>\n",
              "    </tr>\n",
              "    <tr>\n",
              "      <th>...</th>\n",
              "      <td>...</td>\n",
              "      <td>...</td>\n",
              "      <td>...</td>\n",
              "      <td>...</td>\n",
              "      <td>...</td>\n",
              "      <td>...</td>\n",
              "      <td>...</td>\n",
              "    </tr>\n",
              "    <tr>\n",
              "      <th>1505</th>\n",
              "      <td>2015-12-24</td>\n",
              "      <td>118.800003</td>\n",
              "      <td>117.300003</td>\n",
              "      <td>118.220001</td>\n",
              "      <td>117.330002</td>\n",
              "      <td>3531300.0</td>\n",
              "      <td>117.330002</td>\n",
              "    </tr>\n",
              "    <tr>\n",
              "      <th>1506</th>\n",
              "      <td>2015-12-28</td>\n",
              "      <td>117.349998</td>\n",
              "      <td>113.849998</td>\n",
              "      <td>117.260002</td>\n",
              "      <td>117.110001</td>\n",
              "      <td>8424300.0</td>\n",
              "      <td>117.110001</td>\n",
              "    </tr>\n",
              "    <tr>\n",
              "      <th>1507</th>\n",
              "      <td>2015-12-29</td>\n",
              "      <td>119.599998</td>\n",
              "      <td>116.919998</td>\n",
              "      <td>118.190002</td>\n",
              "      <td>119.120003</td>\n",
              "      <td>8159200.0</td>\n",
              "      <td>119.120003</td>\n",
              "    </tr>\n",
              "    <tr>\n",
              "      <th>1508</th>\n",
              "      <td>2015-12-30</td>\n",
              "      <td>119.019997</td>\n",
              "      <td>116.430000</td>\n",
              "      <td>118.949997</td>\n",
              "      <td>116.709999</td>\n",
              "      <td>8149700.0</td>\n",
              "      <td>116.709999</td>\n",
              "    </tr>\n",
              "    <tr>\n",
              "      <th>1509</th>\n",
              "      <td>2015-12-31</td>\n",
              "      <td>117.459999</td>\n",
              "      <td>114.279999</td>\n",
              "      <td>116.209999</td>\n",
              "      <td>114.379997</td>\n",
              "      <td>9273000.0</td>\n",
              "      <td>114.379997</td>\n",
              "    </tr>\n",
              "  </tbody>\n",
              "</table>\n",
              "<p>1510 rows × 7 columns</p>\n",
              "</div>"
            ],
            "text/plain": [
              "           Date        High         Low        Open       Close      Volume  \\\n",
              "0    2010-01-04    7.961429    7.565714    7.931429    7.640000  17239600.0   \n",
              "1    2010-01-05    7.657143    7.258571    7.652857    7.358571  23753100.0   \n",
              "2    2010-01-06    7.672857    7.197143    7.361429    7.617143  23290400.0   \n",
              "3    2010-01-07    7.757143    7.462857    7.731429    7.485714   9955400.0   \n",
              "4    2010-01-08    7.742857    7.465714    7.498571    7.614286   8180900.0   \n",
              "...         ...         ...         ...         ...         ...         ...   \n",
              "1505 2015-12-24  118.800003  117.300003  118.220001  117.330002   3531300.0   \n",
              "1506 2015-12-28  117.349998  113.849998  117.260002  117.110001   8424300.0   \n",
              "1507 2015-12-29  119.599998  116.919998  118.190002  119.120003   8159200.0   \n",
              "1508 2015-12-30  119.019997  116.430000  118.949997  116.709999   8149700.0   \n",
              "1509 2015-12-31  117.459999  114.279999  116.209999  114.379997   9273000.0   \n",
              "\n",
              "       Adj Close  \n",
              "0       7.640000  \n",
              "1       7.358571  \n",
              "2       7.617143  \n",
              "3       7.485714  \n",
              "4       7.614286  \n",
              "...          ...  \n",
              "1505  117.330002  \n",
              "1506  117.110001  \n",
              "1507  119.120003  \n",
              "1508  116.709999  \n",
              "1509  114.379997  \n",
              "\n",
              "[1510 rows x 7 columns]"
            ]
          },
          "execution_count": 75,
          "metadata": {},
          "output_type": "execute_result"
        }
      ],
      "source": [
        "Netflix = pd.read_csv(\"DataFile/netflix.csv\")\n",
        "Netflix['Date'] = pd.to_datetime(Netflix['Date'])\n",
        "Netflix_2010_2015 = Netflix[~(Netflix['Date'] > '2015-12-31')]\n",
        "Netflix_2010_2015 = Netflix_2010_2015[~(Netflix_2010_2015['Date'] < '2010-1-1')].reset_index(drop = True)\n",
        "Netflix_2010_2015"
      ]
    },
    {
      "cell_type": "markdown",
      "metadata": {
        "id": "rajds6xiNfJA"
      },
      "source": [
        "Regession line"
      ]
    },
    {
      "cell_type": "code",
      "execution_count": null,
      "metadata": {
        "id": "vjnQETczNfJA"
      },
      "outputs": [],
      "source": [
        "def regressionLine(y):\n",
        "    days = np.size(y)\n",
        "    x = []\n",
        "    for i in range(1,days+1):\n",
        "        x.append(i)\n",
        "    x = np.array(x)\n",
        "\n",
        "    avgX = np.average(x)\n",
        "    avgY = np.average(y)\n",
        "    SumX = np.sum(x)\n",
        "    SumY = np.sum(y)\n",
        "\n",
        "    xy = 0\n",
        "    xx = 0\n",
        "    for i in range(len(x)):\n",
        "        xy = xy + (x[i]- avgX) * (y[i] - avgY)\n",
        "        xx = xx + (x[i]- avgX)**2\n",
        "    \n",
        "    slope = xy/xx\n",
        "    b = avgY - slope*avgX\n",
        "    return (b, slope)\n",
        "\n",
        "\n"
      ]
    },
    {
      "cell_type": "code",
      "execution_count": null,
      "metadata": {
        "id": "q197DVzNNfJA"
      },
      "outputs": [],
      "source": []
    },
    {
      "cell_type": "code",
      "execution_count": null,
      "metadata": {
        "id": "XRSNCICONfJB"
      },
      "outputs": [],
      "source": [
        "def plotRegressionLine(df , company, b):\n",
        "    # plotting the actual points as scatter plot\n",
        "    y = df[\"Close\"]\n",
        "    date = df[\"Date\"]\n",
        "    \n",
        "    x = []\n",
        "    for i in range(1, np.size(y) + 1):\n",
        "        x.append(i)\n",
        "    x = np.array(x)\n",
        "    plt.scatter(date, y, color = \"m\")\n",
        "  \n",
        "    # predicted stock price\n",
        "    y_pred = b[0] + b[1]*x\n",
        "  \n",
        "    # plotting the regression line\n",
        "    plt.plot(date, y_pred, color = \"b\")\n",
        "  \n",
        "    # putting labels\n",
        "    plt.xlabel('Date')\n",
        "    plt.ylabel('Stock Price')\n",
        "    plt.title(company  + \" stock price from 2010 to 2015\")\n",
        "    # function to show plot\n",
        "    plt.show()"
      ]
    },
    {
      "cell_type": "code",
      "execution_count": null,
      "metadata": {
        "id": "VwluHff8NfJB",
        "outputId": "26611d47-d870-4f19-8aef-b18be934ec09"
      },
      "outputs": [
        {
          "data": {
            "image/png": "[encoded data removed]",
            "text/plain": [
              "<Figure size 432x288 with 1 Axes>"
            ]
          },
          "metadata": {
            "needs_background": "light"
          },
          "output_type": "display_data"
        }
      ],
      "source": [
        "Amazonb = (regressionLine(Amazon_2010_2015[\"Close\"]))\n",
        "plotRegressionLine(Amazon_2010_2015,\"Amazon\", Amazonb)"
      ]
    },
    {
      "cell_type": "code",
      "execution_count": null,
      "metadata": {
        "id": "cdWmxbNCNfJB",
        "outputId": "5584db89-45c4-49ec-98e2-0ceadd572e1d"
      },
      "outputs": [
        {
          "data": {
            "image/png": "[encoded data removed]",
            "text/plain": [
              "<Figure size 432x288 with 1 Axes>"
            ]
          },
          "metadata": {
            "needs_background": "light"
          },
          "output_type": "display_data"
        }
      ],
      "source": [
        "Googleb = (regressionLine(Google_2010_2015[\"Close\"]))\n",
        "plotRegressionLine(Google_2010_2015,\"Google\", Googleb)"
      ]
    },
    {
      "cell_type": "code",
      "execution_count": null,
      "metadata": {
        "id": "TRRTg26HNfJB",
        "outputId": "7b0da084-a52b-46e0-bb9c-4e727d4ffb9c"
      },
      "outputs": [
        {
          "data": {
            "image/png": "[encoded data removed]",
            "text/plain": [
              "<Figure size 432x288 with 1 Axes>"
            ]
          },
          "metadata": {
            "needs_background": "light"
          },
          "output_type": "display_data"
        }
      ],
      "source": [
        "Netflixb = (regressionLine(Netflix_2010_2015[\"Close\"]))\n",
        "plotRegressionLine(Netflix_2010_2015,\"Netflix\", Netflixb)"
      ]
    },
    {
      "cell_type": "code",
      "execution_count": null,
      "metadata": {
        "id": "PCm9_MOnNfJC"
      },
      "outputs": [],
      "source": [
        "class LinearModel(nn.Module):\n",
        "    def __init__(self):\n",
        "        super(LinearModel , self).__init__()\n",
        "        self.linear = torch.nn.Linear(1,1)\n",
        "    def forward(self , x):\n",
        "        return self.linear(x)\n"
      ]
    },
    {
      "cell_type": "code",
      "execution_count": null,
      "metadata": {
        "id": "bX2BozdlNfJC",
        "outputId": "01ceb00b-448f-43b5-bf91-d934a2c07407"
      },
      "outputs": [
        {
          "name": "stdout",
          "output_type": "stream",
          "text": [
            "(481.6486377178592, 1.0935934821538211)\n",
            "tensor(nan, requires_grad=True) tensor(nan, requires_grad=True)\n"
          ]
        },
        {
          "data": {
            "text/plain": [
              "[<matplotlib.lines.Line2D at 0x128c5967a60>]"
            ]
          },
          "execution_count": 305,
          "metadata": {},
          "output_type": "execute_result"
        },
        {
          "data": {
            "image/png": "[encoded data removed]",
            "text/plain": [
              "<Figure size 432x288 with 1 Axes>"
            ]
          },
          "metadata": {
            "needs_background": "light"
          },
          "output_type": "display_data"
        }
      ],
      "source": [
        "x = []\n",
        "for i in range(1, np.size(Google_2010_2015[\"Close\"]) + 1):\n",
        "    x.append(float(i))\n",
        "   \n",
        "x = np.array(x)\n",
        "y = Google_2010_2015[\"Close\"]\n",
        "\n",
        "x_torch = torch.FloatTensor(x).reshape(-1,1)\n",
        "y_torch = torch.FloatTensor(y).reshape(-1,1)\n",
        "\n",
        "w = torch.tensor(Googleb[1],requires_grad = True)\n",
        "b = torch.tensor(Googleb[0],requires_grad = True)\n",
        "lr = 0.01\n",
        "\n",
        "for i in range(1):\n",
        "    y_hat = x_torch*w + b\n",
        "    loss = torch.sum(torch.pow(y_torch - y_hat , 2) / len(y_torch))\n",
        "    loss.backward()\n",
        "    with torch.no_grad():\n",
        "        w -= lr*w.grad\n",
        "        b -= lr*b.grad\n",
        "        w.grad.zero_()\n",
        "        b.grad.zero_()\n",
        "\n",
        "y_pred = x_torch*w + b\n",
        "\n",
        "plt.plot(x_torch, y_torch , 'g')\n",
        "plt.plot(x_torch, y_pred.detach().numpy(),'b')\n"
      ]
    },
    {
      "cell_type": "code",
      "execution_count": null,
      "metadata": {
        "id": "LWwlta9ANfJC"
      },
      "outputs": [],
      "source": []
    },
    {
      "cell_type": "markdown",
      "metadata": {
        "id": "eemx2KiLNfJC"
      },
      "source": [
        "logistic regression linear\n",
        "# "
      ]
    },
    {
      "cell_type": "markdown",
      "metadata": {
        "id": "W0kCg2hqNfJC"
      },
      "source": [
        "LSTM\n",
        "# Pytorch"
      ]
    },
    {
      "cell_type": "markdown",
      "metadata": {
        "id": "mrgcQKKgNfJC"
      },
      "source": [
        "GRU\n",
        "# pytorch"
      ]
    }
  ],
  "metadata": {
    "kernelspec": {
      "display_name": "Python 3.9.7 ('base')",
      "language": "python",
      "name": "python3"
    },
    "language_info": {
      "codemirror_mode": {
        "name": "ipython",
        "version": 3
      },
      "file_extension": ".py",
      "mimetype": "text/x-python",
      "name": "python",
      "nbconvert_exporter": "python",
      "pygments_lexer": "ipython3",
      "version": "3.9.7"
    },
    "orig_nbformat": 4,
    "vscode": {
      "interpreter": {
        "hash": "3a4a3d6e9494e8dc5d377ba58fd73fbf17983ff319a8217b25b13acf8c666d9a"
      }
    },
    "colab": {
      "provenance": [],
      "toc_visible": true,
      "include_colab_link": true
    }
  },
  "nbformat": 4,
  "nbformat_minor": 0
}